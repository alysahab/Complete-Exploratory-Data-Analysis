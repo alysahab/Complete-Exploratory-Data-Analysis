{
 "cells": [
  {
   "attachments": {},
   "cell_type": "markdown",
   "id": "bb9258e8",
   "metadata": {},
   "source": [
    "# What is Exploratory Data Analysis\n",
    "\n",
    " • Exploratory Data Analysis is an approach to analyze the datasets to summarize their main \n",
    "characteristics in form of  visual methods.  \n",
    "\n",
    " • EDA is nothing but a data exploration technique to understand various aspects of the data.\n",
    " \n",
    " • The main aim of EDA is to obtain confidence in a data to an extent where we are  ready to \n",
    "engage a machine learning model.  \n",
    "\n",
    " • EDA is important to analyze the data it’s a first steps in data analysis process. \n",
    " \n",
    "• EDA give a basic idea to understand the data and make sense of the data to figure out the \n",
    "question you need to ask and find out the best way to manipulate the dataset to get the \n",
    "answer to your question.  \n",
    "\n",
    " • Exploratory data analysis help us to finding the errors, discovering data, mapping out data \n",
    "structure, finding out anomalies.\n",
    "\n",
    " • Exploratory data analysis is important for business process because we are preparing \n",
    "dataset for deep thorough analysis that will detect you business problem.   \n",
    "\n",
    "• EDA help to build a quick and dirty model, or a baseline model, which can serve as a \n",
    "comparison against later models that you will build.\n",
    "  \n",
    "It involves collecting, cleaning, analyzing and presenting data in visual format.\n"
   ]
  },
  {
   "cell_type": "markdown",
   "id": "ef0d9df0",
   "metadata": {},
   "source": [
    "## DS Process\n",
    "\n",
    "1. **Raw Data Collection**:\n",
    "   - In data science, raw data refers to the initial, unprocessed information collected from various sources.\n",
    "   - Examples of raw data sources:\n",
    "     - **Company Databases**: Extracting data from internal systems, such as customer records, sales transactions, or inventory logs.\n",
    "     - **Client Interactions**: Collecting data from client interactions, surveys, or feedback forms.\n",
    "     - **Web Scraping**: Extracting data from websites or APIs.\n",
    "     - **Publicly Available Data**: Utilizing open data repositories or government datasets.\n",
    "    \n",
    "2. **Data Processing**:\n",
    "   - Clean and organize raw data.\n",
    "   - Handle missing values, outliers, and inconsistencies.\n",
    "\n",
    "3. **Clean Dataset**:\n",
    "   - A refined version of collected data.\n",
    "   - Ready for exploration and analysis.\n",
    "\n",
    "4. **Exploratory Data Analysis (EDA)**:\n",
    "   - Analyze clean datasets to discover patterns, anomalies, and relationships.\n",
    "   - Visualize data using plots and charts.\n",
    "\n",
    "5. **Models & Algorithms**:\n",
    "   - Apply appropriate models (e.g., regression, classification) and algorithms.\n",
    "   - Train and evaluate models on the data.\n",
    "\n",
    "6. **Visualize Report**:\n",
    "   - Create visual representations (graphs, dashboards) to communicate findings.\n",
    "   - Summarize insights for stakeholders.\n",
    "\n",
    "7. **Make Decisions**:\n",
    "   - Utilize data-driven insights to inform business decisions.\n",
    "   - Optimize processes, improve products, or enhance strategies.\n",
    "   "
   ]
  },
  {
   "cell_type": "markdown",
   "id": "a9390bff",
   "metadata": {},
   "source": [
    "# EDA process\n",
    "\n",
    "1. Data Sourcing\r\n",
    "2. Data Cleaning\r\n",
    "3. Data Analysis (categorical and numerical analysis)\r\n",
    "4. Derived metrics\n",
    "\n",
    "We will look at each of them.\n",
    "\n",
    "## Data Sourcing\n",
    " • Data Sourcing is the process of gathering data from multiple sources as external or internal data collection.\n",
    " • There are two major kind of data which can be classified according to the source:\n",
    " \n",
    "   **Two Types of data**\n",
    "   - **Private Data**:\n",
    "       - In data science, private data refers to sensitive information that requires special handling.\n",
    "       - Examples:\n",
    "         - **Health Records**: Analyzing patient data while maintaining privacy and compliance.\n",
    "         - **Financial Transactions**: Predicting credit risk without compromising confidentiality.\n",
    "       - Data scientists must follow ethical guidelines and legal regulations when dealing with private data.\n",
    "\n",
    "  - **Public Data**:\n",
    "       - Public data is openly accessible and often used for research, analysis, and modeling.\n",
    "       - Examples:\n",
    "         - **Census Data**: Studying population demographics.\n",
    "         - **Weather Records**: Analyzing climate patterns.\n",
    "         - **Social Media Posts**: Extracting trends or sentiment analysis.\n",
    "       - Researchers can freely use public data without seeking permission.\n",
    " \n",
    "\n",
    "| **Type of Data** | **Description**                                                                                     | **Examples**                                                                                       |\n",
    "|------------------|-----------------------------------------------------------------------------------------------------|-----------------------------------------------------------------------------------------------------|\n",
    "| Public Data      | Easily accessible without permission from agencies.                                              | - Government data - E-commerce site data                                                           |\n",
    "| Private Data     | Requires permission to access; not publicly available.                                           | - Banking data - Telecom data - Retail sector data                                                  |\n",
    "\n",
    "\n",
    "**Some questions you need to ask when you get your dataset**\n",
    "\n",
    "1. **How big is the Data?**\n",
    "    - The `df.shape` method provides the dimensions of your DataFrame. It returns a tuple with the number of rows (observations) and columns (features). Knowing the size of your dataset helps you understand its scale and plan further analysis.\n",
    "\n",
    "2. **How does the data look like?**\n",
    "    - `df.head()` displays the first few rows of your DataFrame. It gives you a glimpse of the data, including column names and sample values. Additionally, using `df.sample(5)` provides a random sample of 5 rows, which can be more representative than just the first few rows.\n",
    "\n",
    "3. **What is the datatype of columns?**\n",
    "    - `df.info()` gives you information about the data types of each column. Understanding the data types (e.g., float, int, str) helps you identify potential issues (e.g., mismatched data types) and decide whether any type conversions are necessary.\n",
    "\n",
    "4. **Are there any missing values?**\n",
    "    - `df.isnull().sum()` calculates the total number of missing values in each column. Handling missing data is crucial for accurate analysis. You can choose to fill missing values or remove rows/columns with missing data based on the context. we will further in detail will look at it\n",
    "\n",
    "5. **How does the data look mathematically?**\n",
    "    - `df.describe()` provides statistical summaries (mean, standard deviation, quartiles, etc.) for numerical columns. It helps you understand the distribution, central tendency, and variability of your data.\n",
    "\n",
    "6. **Are there duplicate values?**\n",
    "    - `df.duplicated().sum()` counts the number of duplicate rows in your DataFrame. Removing duplicates `df.drop_duplicates()`  ensures that you're not inadvertently inflating the importance of certain observations.\n",
    "\n",
    "7. **How is the correlation between columns?**\n",
    "    - `df.corr()` computes the correlation matrix between numerical columns. Correlation measures the strength and direction of the linear relationship between variables. For example, checking the correlation of the 'Survived' column with other numerical columns `df.corr()['Survived']` can reveal important associations.\n",
    "    \n",
    "\n",
    "## Data Cleaning\n",
    "\n",
    "Data Cleaning is the process of clean the data to \n",
    "improve the quality of the data for further data \n",
    "analysis and building a machine learning model.\n",
    "\n",
    " The benefit of data cleaning is that all the incorrect \n",
    "and irrelevant data is gone, and we get the good \n",
    "quality of data which will help in improving the \n",
    "accuracy of our machine learning model. \n",
    "\n",
    "\n",
    "**Data Cleaning Steps involve**\n",
    "\n",
    "1. Handling Missing Values\r\n",
    "2. Standardization of the Data\r\n",
    "3. Outlier Treatment\r\n",
    "4. Handle Invalid Values\n",
    "\n",
    "\n",
    "### 1. Handle Missing Values\n",
    "\n",
    "**Understanding Missing Values:**\n",
    "\n",
    "**MCAR (Missing Completely at Random):**\n",
    "\n",
    "- Definition: Missingness occurs randomly and independently of both observed and missing values in the dataset.\n",
    "    - Example: In a weather dataset, missing temperature data may occur randomly due to technical issues during data collection, unrelated to any specific weather conditions or locations.\n",
    "\n",
    "**MAR (Missing at Random):**\n",
    "\n",
    "- Definition: Missingness depends only on observed values, not on the values that are missing.\n",
    "    - Example: In a survey on job satisfaction, employees might not disclose their income level, but this tendency is related to factors like their job role and education level, not directly to the income itself.\n",
    "    \n",
    "**MNAR (Missing Not at Random):**\n",
    "- Definition: Missingness depends on the values that are missing, irrespective of observed variables.\n",
    "    - Example: In a classroom, students who struggle with a particular subject may be more likely to avoid answering related questions, leading to missing data that is directly tied to their performance in that subject, rather than just observed variables like attendance or participation which available in dataset.\n",
    "\n",
    "**Choice of Approach:**\n",
    "\n",
    "- Consider the **distribution** of the missing data:\n",
    "    - **Numerical:** Mean, median, mode, random sampling, interpolation, model-based imputation.\n",
    "    - **Categorical:** Mode, custom strategies based on domain knowledge.\n",
    "- **Amount of missing data:** Small amounts (e.g., < 5%) might be tolerable for deletion, while larger portions might necessitate imputation.\n",
    "- **Impact on analysis:** Missing data can introduce bias or increase variance. Evaluate potential impact based on the analysis goals.\n",
    "- **Domain knowledge:** Consider the meaning of missing values in your specific context.\n",
    "\n",
    "**Common Techniques in Python:**\n",
    "\n",
    "1. **Deletion:**\n",
    "   - **`dropna()`:** Drop entire rows (default) or columns with missing values.\n",
    "   - **`DataFrame.dropna(axis=1, thresh=n)`:** Drop columns with less than `n` non-missing values.\n",
    "   - **Be cautious:** Can lead to information loss and bias, especially with MNAR data.\n",
    "\n",
    "2. **Imputation:**\n",
    "   - **Mean/Median/Mode imputation:** Replace missing values with the mean, median, or mode of the column.\n",
    "     - Use `DataFrame.fillna()` with appropriate parameters.\n",
    "     - Suitable for MCAR or MAR data with continuous or categorical features, respectively.\n",
    "   - **Random Sample Imputation:** Fill with a random value from the existing data distribution.\n",
    "     - Use `DataFrame.sample()` or similar to sample values.\n",
    "     - Useful for large datasets with continuous features, but can introduce bias.\n",
    "   - **Interpolation:** Fill missing values based on surrounding values (linear, polynomial, cubic spline).\n",
    "     - Use `DataFrame.interpolate()` with the desired method.\n",
    "     - Suitable for MCAR or MAR data with continuous features and specific patterns in missingness.\n",
    "   - **Model-based Imputation:** Use machine learning models to predict missing values.\n",
    "     - Create training data with complete observations and use techniques like KNN, Random Forest, or neural networks.\n",
    "     - More powerful but can be computationally expensive and susceptible to overfitting.\n",
    "\n",
    "3. **Encoding Missingness (missing indicator):**\n",
    "   - Create new column which contains binary feature indicating the presence of missing values.\n",
    "   - Can be useful in some applications but may not always capture the meaning of missingness.\n",
    "\n",
    "**Additional Considerations:**\n",
    "\n",
    "- **Multiple Imputation:** Create multiple imputed datasets and average the results to account for uncertainty in the imputation process. This can be particularly effective for MNAR data.\n",
    "- **Dealing with Outliers:** Identify and handle outliers before imputation, as they can distort the mean/median and affect model-based approaches.\n",
    "- **Evaluate Imputation:** Assess the impact of different imputation strategies on model performance and data analysis results.\n",
    "\n",
    "\n",
    "\n",
    "| **Method**                   | **How to**                                                                                     | **When to Use**                                                                                     | **When Not to Use**                                                                                   | **Benefits**                                                                                      |\n",
    "|-----------------------------|-------------------------------------------------------------------------------------------------|-----------------------------------------------------------------------------------------------------|--------------------------------------------------------------------------------------------------------|----------------------------------------------------------------------------------------------------|\n",
    "| **Delete Rows/Columns**         | - Delete rows with insignificant missing values. - Delete columns with more than 75% missing. | - When missing data is minimal and doesn't significantly impact analysis. - For large datasets.    | - When missing data is substantial or systematic. - Loss of information.                               | - Simplifies the dataset. - Preserves sample size.                                              |\n",
    "| **Replacing with Mean/Median/Mode** | - Replace missing values with mean or median (for numerical) or mode (for categorical).                | - When missing data is random or not extensive. - For numerical independent variables.            | - When missing data is systematic or too extensive. - May introduce false patterns.                  | - Completes the dataset. - Maintains statistical properties.                                    |\n",
    "| **Algorithm Imputation**        | - Use machine learning algorithms (e.g., KNN, Naïve Bayes, Random Forest) to predict missing values. | - When relationships exist between features. - For complex datasets.                              | - When relationships are weak or absent. - Computationally expensive. - Requires labeled data.       | - Utilizes patterns in data. - Handle missing values and improves accuracy compared to simple imputation.                  |\n",
    "| **Prediction Model**            | - Treat missing values as the target variable. - Train on complete data, test on data with missing values. | - When other methods are insufficient. - For predictive modeling.                                  | - When missing data is minimal. - May overfit if not careful. - Requires labeled data.                | - Utilizes predictive power. - Handles missing values directly. - Useful for imbalanced data. |\n",
    "\n",
    "\n",
    "### Examples\n",
    "\n",
    "\n",
    "1. **Delete Rows/Columns**:\n",
    "   - **Scenario**: You're analyzing customer feedback data for a product. Some rows have missing feedback (2% is missing).\n",
    "   - **Action**: Delete the rows with missing feedback in case of large dataset where deletion won't impact you analysis.\n",
    "   - **Benefit**: Simplifies the dataset and preserves the overall sample size.\n",
    "\n",
    "2. **Replacing with Mean/Median/Mode**:\n",
    "   - **Scenario**: You're analyzing a dataset of customer ages. Some entries have missing age values and it is MCAR.\n",
    "   - **Action**: Replace missing age values with the mean or median age.\n",
    "   - **Benefit**: Completes the dataset and maintains statistical properties.\n",
    "\n",
    "3. **Algorithm Imputation**:\n",
    "   - **Scenario**: You're working with a dataset containing housing prices. Some features have missing values.\n",
    "   - **Action**: Use machine learning algorithms (e.g., KNN, Random Forest) to predict missing values.\n",
    "   - **Benefit**: Utilizes patterns in data and improves accuracy.\n",
    "\n",
    "4. **Prediction Model**:\n",
    "   - **Scenario**: You're analyzing a dataset of stock market data. Some stock prices are missing.\n",
    "   - **Action**: Treat missing stock prices as the target variable. Train a prediction model on complete data and test on data with missing stock prices.\n",
    "   - **Benefit**: Utilizes predictive power and handles missing values directly."
   ]
  },
  {
   "cell_type": "code",
   "execution_count": 1,
   "id": "73788c00",
   "metadata": {},
   "outputs": [
    {
     "name": "stdout",
     "output_type": "stream",
     "text": [
      "     A     B\n",
      "0  1.0     a\n",
      "1  2.0     b\n",
      "2  NaN  None\n",
      "3  4.0     d\n",
      "4  3.0     a\n",
      "5  NaN     c\n",
      "6  6.0  None\n",
      "7  5.0     a\n",
      "8  8.0     f \n",
      "\n",
      "Imputation with mean: \n",
      "           A     B\n",
      "0  1.000000     a\n",
      "1  2.000000     b\n",
      "2  4.142857  None\n",
      "3  4.000000     d\n",
      "4  3.000000     a\n",
      "5  4.142857     c\n",
      "6  6.000000  None\n",
      "7  5.000000     a\n",
      "8  8.000000     f \n",
      "\n",
      "Imputation with median: \n",
      "      A     B\n",
      "0  1.0     a\n",
      "1  2.0     b\n",
      "2  4.0  None\n",
      "3  4.0     d\n",
      "4  3.0     a\n",
      "5  4.0     c\n",
      "6  6.0  None\n",
      "7  5.0     a\n",
      "8  8.0     f \n",
      "\n",
      "Imputation with mode: \n",
      "      A  B\n",
      "0  1.0  a\n",
      "1  2.0  b\n",
      "2  4.0  a\n",
      "3  4.0  d\n",
      "4  3.0  a\n",
      "5  4.0  c\n",
      "6  6.0  a\n",
      "7  5.0  a\n",
      "8  8.0  f \n",
      "\n",
      "Imputation with interpolate: \n",
      "      A     B\n",
      "0  1.0     a\n",
      "1  2.0     b\n",
      "2  3.0  None\n",
      "3  4.0     d\n",
      "4  3.0     a\n",
      "5  4.5     c\n",
      "6  6.0  None\n",
      "7  5.0     a\n",
      "8  8.0     f\n"
     ]
    }
   ],
   "source": [
    "# CODE to handle missing values\n",
    "\n",
    "import pandas as pd\n",
    "\n",
    "# Create sample data with missing values\n",
    "data = {'A': [1, 2, None, 4,3,None,6,5,8], 'B': ['a', 'b', None, 'd','a','c',None,'a','f']}\n",
    "df = pd.DataFrame(data)\n",
    "print(df,'\\n')\n",
    "\n",
    "\n",
    "# **Deletion:** \n",
    "df_dropped = df.dropna()  # Drop rows with missing values in case of large dataset and small amount of data are missing (have no impact on the analysis)\n",
    "df_dropped = df.dropna(axis = 1)  # Drop column with missing values in case of 75% or more, data are missing\n",
    "\n",
    "new_df = df.copy()\n",
    "new_df2 = df.copy()\n",
    "\n",
    "# **Mean/Median Imputation:** for numerical\n",
    "new_df['A'].fillna(df['A'].mean(), inplace=True)  # Impute missing 'A' with mean\n",
    "print('Imputation with mean: \\n', new_df,'\\n')\n",
    "\n",
    "df['A'].fillna(df['A'].median(), inplace = True)  # Impute missing 'A' with median in case of outliers\n",
    "print('Imputation with median: \\n', df,'\\n')\n",
    "\n",
    "imputation_mode = df['B'].fillna(df['B'].mode()[0], inplace = True)  # Impute missing 'B' with mode for categorical data\n",
    "print('Imputation with mode: \\n',df,'\\n')\n",
    "\n",
    "# **Interpolation (Linear):** good for numerical value\n",
    "new_df2['A'].interpolate(method='linear', inplace=True)\n",
    "print('Imputation with interpolate: \\n',new_df2)\n",
    "     \n",
    "\n"
   ]
  },
  {
   "cell_type": "code",
   "execution_count": 2,
   "id": "98f62c64-65b5-494a-b878-6e707283f1d0",
   "metadata": {},
   "outputs": [
    {
     "data": {
      "text/html": [
       "<div>\n",
       "<style scoped>\n",
       "    .dataframe tbody tr th:only-of-type {\n",
       "        vertical-align: middle;\n",
       "    }\n",
       "\n",
       "    .dataframe tbody tr th {\n",
       "        vertical-align: top;\n",
       "    }\n",
       "\n",
       "    .dataframe thead th {\n",
       "        text-align: right;\n",
       "    }\n",
       "</style>\n",
       "<table border=\"1\" class=\"dataframe\">\n",
       "  <thead>\n",
       "    <tr style=\"text-align: right;\">\n",
       "      <th></th>\n",
       "      <th>A</th>\n",
       "      <th>B</th>\n",
       "    </tr>\n",
       "  </thead>\n",
       "  <tbody>\n",
       "    <tr>\n",
       "      <th>0</th>\n",
       "      <td>1.0</td>\n",
       "      <td>a</td>\n",
       "    </tr>\n",
       "    <tr>\n",
       "      <th>1</th>\n",
       "      <td>2.0</td>\n",
       "      <td>b</td>\n",
       "    </tr>\n",
       "    <tr>\n",
       "      <th>2</th>\n",
       "      <td>NaN</td>\n",
       "      <td>None</td>\n",
       "    </tr>\n",
       "    <tr>\n",
       "      <th>3</th>\n",
       "      <td>4.0</td>\n",
       "      <td>d</td>\n",
       "    </tr>\n",
       "    <tr>\n",
       "      <th>4</th>\n",
       "      <td>3.0</td>\n",
       "      <td>a</td>\n",
       "    </tr>\n",
       "    <tr>\n",
       "      <th>5</th>\n",
       "      <td>NaN</td>\n",
       "      <td>c</td>\n",
       "    </tr>\n",
       "    <tr>\n",
       "      <th>6</th>\n",
       "      <td>6.0</td>\n",
       "      <td>None</td>\n",
       "    </tr>\n",
       "    <tr>\n",
       "      <th>7</th>\n",
       "      <td>5.0</td>\n",
       "      <td>a</td>\n",
       "    </tr>\n",
       "    <tr>\n",
       "      <th>8</th>\n",
       "      <td>8.0</td>\n",
       "      <td>f</td>\n",
       "    </tr>\n",
       "  </tbody>\n",
       "</table>\n",
       "</div>"
      ],
      "text/plain": [
       "     A     B\n",
       "0  1.0     a\n",
       "1  2.0     b\n",
       "2  NaN  None\n",
       "3  4.0     d\n",
       "4  3.0     a\n",
       "5  NaN     c\n",
       "6  6.0  None\n",
       "7  5.0     a\n",
       "8  8.0     f"
      ]
     },
     "execution_count": 2,
     "metadata": {},
     "output_type": "execute_result"
    }
   ],
   "source": [
    "data1 = {'A': [1, 2, None, 4,3,None,6,5,8], 'B': ['a', 'b', None, 'd','a','c',None,'a','f']}\n",
    "df = pd.DataFrame(data1)\n",
    "df"
   ]
  },
  {
   "cell_type": "code",
   "execution_count": 3,
   "id": "e3546969",
   "metadata": {},
   "outputs": [],
   "source": [
    "# impute with SimpleImputer\n",
    "\n",
    "from sklearn.model_selection import train_test_split\n",
    "from sklearn.impute import SimpleImputer\n",
    "from sklearn.compose import ColumnTransformer\n",
    "\n",
    "impute1 = SimpleImputer(strategy = 'mean')\n",
    "impute2 = SimpleImputer(strategy = 'most_frequent',missing_values=None)\n",
    "\n",
    "trf = ColumnTransformer([\n",
    "    \n",
    "    ('imputer1',impute1,['A']),\n",
    "    ('imputer2',impute2,['B'])\n",
    "\n",
    "])\n"
   ]
  },
  {
   "cell_type": "code",
   "execution_count": 4,
   "id": "5b9d7bac",
   "metadata": {},
   "outputs": [
    {
     "data": {
      "text/html": [
       "<style>#sk-container-id-1 {color: black;background-color: white;}#sk-container-id-1 pre{padding: 0;}#sk-container-id-1 div.sk-toggleable {background-color: white;}#sk-container-id-1 label.sk-toggleable__label {cursor: pointer;display: block;width: 100%;margin-bottom: 0;padding: 0.3em;box-sizing: border-box;text-align: center;}#sk-container-id-1 label.sk-toggleable__label-arrow:before {content: \"▸\";float: left;margin-right: 0.25em;color: #696969;}#sk-container-id-1 label.sk-toggleable__label-arrow:hover:before {color: black;}#sk-container-id-1 div.sk-estimator:hover label.sk-toggleable__label-arrow:before {color: black;}#sk-container-id-1 div.sk-toggleable__content {max-height: 0;max-width: 0;overflow: hidden;text-align: left;background-color: #f0f8ff;}#sk-container-id-1 div.sk-toggleable__content pre {margin: 0.2em;color: black;border-radius: 0.25em;background-color: #f0f8ff;}#sk-container-id-1 input.sk-toggleable__control:checked~div.sk-toggleable__content {max-height: 200px;max-width: 100%;overflow: auto;}#sk-container-id-1 input.sk-toggleable__control:checked~label.sk-toggleable__label-arrow:before {content: \"▾\";}#sk-container-id-1 div.sk-estimator input.sk-toggleable__control:checked~label.sk-toggleable__label {background-color: #d4ebff;}#sk-container-id-1 div.sk-label input.sk-toggleable__control:checked~label.sk-toggleable__label {background-color: #d4ebff;}#sk-container-id-1 input.sk-hidden--visually {border: 0;clip: rect(1px 1px 1px 1px);clip: rect(1px, 1px, 1px, 1px);height: 1px;margin: -1px;overflow: hidden;padding: 0;position: absolute;width: 1px;}#sk-container-id-1 div.sk-estimator {font-family: monospace;background-color: #f0f8ff;border: 1px dotted black;border-radius: 0.25em;box-sizing: border-box;margin-bottom: 0.5em;}#sk-container-id-1 div.sk-estimator:hover {background-color: #d4ebff;}#sk-container-id-1 div.sk-parallel-item::after {content: \"\";width: 100%;border-bottom: 1px solid gray;flex-grow: 1;}#sk-container-id-1 div.sk-label:hover label.sk-toggleable__label {background-color: #d4ebff;}#sk-container-id-1 div.sk-serial::before {content: \"\";position: absolute;border-left: 1px solid gray;box-sizing: border-box;top: 0;bottom: 0;left: 50%;z-index: 0;}#sk-container-id-1 div.sk-serial {display: flex;flex-direction: column;align-items: center;background-color: white;padding-right: 0.2em;padding-left: 0.2em;position: relative;}#sk-container-id-1 div.sk-item {position: relative;z-index: 1;}#sk-container-id-1 div.sk-parallel {display: flex;align-items: stretch;justify-content: center;background-color: white;position: relative;}#sk-container-id-1 div.sk-item::before, #sk-container-id-1 div.sk-parallel-item::before {content: \"\";position: absolute;border-left: 1px solid gray;box-sizing: border-box;top: 0;bottom: 0;left: 50%;z-index: -1;}#sk-container-id-1 div.sk-parallel-item {display: flex;flex-direction: column;z-index: 1;position: relative;background-color: white;}#sk-container-id-1 div.sk-parallel-item:first-child::after {align-self: flex-end;width: 50%;}#sk-container-id-1 div.sk-parallel-item:last-child::after {align-self: flex-start;width: 50%;}#sk-container-id-1 div.sk-parallel-item:only-child::after {width: 0;}#sk-container-id-1 div.sk-dashed-wrapped {border: 1px dashed gray;margin: 0 0.4em 0.5em 0.4em;box-sizing: border-box;padding-bottom: 0.4em;background-color: white;}#sk-container-id-1 div.sk-label label {font-family: monospace;font-weight: bold;display: inline-block;line-height: 1.2em;}#sk-container-id-1 div.sk-label-container {text-align: center;}#sk-container-id-1 div.sk-container {/* jupyter's `normalize.less` sets `[hidden] { display: none; }` but bootstrap.min.css set `[hidden] { display: none !important; }` so we also need the `!important` here to be able to override the default hidden behavior on the sphinx rendered scikit-learn.org. See: https://github.com/scikit-learn/scikit-learn/issues/21755 */display: inline-block !important;position: relative;}#sk-container-id-1 div.sk-text-repr-fallback {display: none;}</style><div id=\"sk-container-id-1\" class=\"sk-top-container\"><div class=\"sk-text-repr-fallback\"><pre>ColumnTransformer(transformers=[(&#x27;imputer1&#x27;, SimpleImputer(), [&#x27;A&#x27;]),\n",
       "                                (&#x27;imputer2&#x27;,\n",
       "                                 SimpleImputer(missing_values=None,\n",
       "                                               strategy=&#x27;most_frequent&#x27;),\n",
       "                                 [&#x27;B&#x27;])])</pre><b>In a Jupyter environment, please rerun this cell to show the HTML representation or trust the notebook. <br />On GitHub, the HTML representation is unable to render, please try loading this page with nbviewer.org.</b></div><div class=\"sk-container\" hidden><div class=\"sk-item sk-dashed-wrapped\"><div class=\"sk-label-container\"><div class=\"sk-label sk-toggleable\"><input class=\"sk-toggleable__control sk-hidden--visually\" id=\"sk-estimator-id-1\" type=\"checkbox\" ><label for=\"sk-estimator-id-1\" class=\"sk-toggleable__label sk-toggleable__label-arrow\">ColumnTransformer</label><div class=\"sk-toggleable__content\"><pre>ColumnTransformer(transformers=[(&#x27;imputer1&#x27;, SimpleImputer(), [&#x27;A&#x27;]),\n",
       "                                (&#x27;imputer2&#x27;,\n",
       "                                 SimpleImputer(missing_values=None,\n",
       "                                               strategy=&#x27;most_frequent&#x27;),\n",
       "                                 [&#x27;B&#x27;])])</pre></div></div></div><div class=\"sk-parallel\"><div class=\"sk-parallel-item\"><div class=\"sk-item\"><div class=\"sk-label-container\"><div class=\"sk-label sk-toggleable\"><input class=\"sk-toggleable__control sk-hidden--visually\" id=\"sk-estimator-id-2\" type=\"checkbox\" ><label for=\"sk-estimator-id-2\" class=\"sk-toggleable__label sk-toggleable__label-arrow\">imputer1</label><div class=\"sk-toggleable__content\"><pre>[&#x27;A&#x27;]</pre></div></div></div><div class=\"sk-serial\"><div class=\"sk-item\"><div class=\"sk-estimator sk-toggleable\"><input class=\"sk-toggleable__control sk-hidden--visually\" id=\"sk-estimator-id-3\" type=\"checkbox\" ><label for=\"sk-estimator-id-3\" class=\"sk-toggleable__label sk-toggleable__label-arrow\">SimpleImputer</label><div class=\"sk-toggleable__content\"><pre>SimpleImputer()</pre></div></div></div></div></div></div><div class=\"sk-parallel-item\"><div class=\"sk-item\"><div class=\"sk-label-container\"><div class=\"sk-label sk-toggleable\"><input class=\"sk-toggleable__control sk-hidden--visually\" id=\"sk-estimator-id-4\" type=\"checkbox\" ><label for=\"sk-estimator-id-4\" class=\"sk-toggleable__label sk-toggleable__label-arrow\">imputer2</label><div class=\"sk-toggleable__content\"><pre>[&#x27;B&#x27;]</pre></div></div></div><div class=\"sk-serial\"><div class=\"sk-item\"><div class=\"sk-estimator sk-toggleable\"><input class=\"sk-toggleable__control sk-hidden--visually\" id=\"sk-estimator-id-5\" type=\"checkbox\" ><label for=\"sk-estimator-id-5\" class=\"sk-toggleable__label sk-toggleable__label-arrow\">SimpleImputer</label><div class=\"sk-toggleable__content\"><pre>SimpleImputer(missing_values=None, strategy=&#x27;most_frequent&#x27;)</pre></div></div></div></div></div></div></div></div></div></div>"
      ],
      "text/plain": [
       "ColumnTransformer(transformers=[('imputer1', SimpleImputer(), ['A']),\n",
       "                                ('imputer2',\n",
       "                                 SimpleImputer(missing_values=None,\n",
       "                                               strategy='most_frequent'),\n",
       "                                 ['B'])])"
      ]
     },
     "execution_count": 4,
     "metadata": {},
     "output_type": "execute_result"
    }
   ],
   "source": [
    "trf.fit(df)"
   ]
  },
  {
   "cell_type": "code",
   "execution_count": 5,
   "id": "1ad0c0b1",
   "metadata": {},
   "outputs": [
    {
     "name": "stdout",
     "output_type": "stream",
     "text": [
      "[4.14285714]\n",
      "['a']\n"
     ]
    }
   ],
   "source": [
    "# with what value the null will be replaced\n",
    "\n",
    "print(trf.named_transformers_['imputer1'].statistics_)\n",
    "print(trf.named_transformers_['imputer2'].statistics_)"
   ]
  },
  {
   "cell_type": "code",
   "execution_count": 6,
   "id": "49ef89ec",
   "metadata": {},
   "outputs": [
    {
     "data": {
      "text/html": [
       "<div>\n",
       "<style scoped>\n",
       "    .dataframe tbody tr th:only-of-type {\n",
       "        vertical-align: middle;\n",
       "    }\n",
       "\n",
       "    .dataframe tbody tr th {\n",
       "        vertical-align: top;\n",
       "    }\n",
       "\n",
       "    .dataframe thead th {\n",
       "        text-align: right;\n",
       "    }\n",
       "</style>\n",
       "<table border=\"1\" class=\"dataframe\">\n",
       "  <thead>\n",
       "    <tr style=\"text-align: right;\">\n",
       "      <th></th>\n",
       "      <th>A</th>\n",
       "      <th>B</th>\n",
       "    </tr>\n",
       "  </thead>\n",
       "  <tbody>\n",
       "    <tr>\n",
       "      <th>0</th>\n",
       "      <td>1.0</td>\n",
       "      <td>a</td>\n",
       "    </tr>\n",
       "    <tr>\n",
       "      <th>1</th>\n",
       "      <td>2.0</td>\n",
       "      <td>b</td>\n",
       "    </tr>\n",
       "    <tr>\n",
       "      <th>2</th>\n",
       "      <td>NaN</td>\n",
       "      <td>None</td>\n",
       "    </tr>\n",
       "    <tr>\n",
       "      <th>3</th>\n",
       "      <td>4.0</td>\n",
       "      <td>d</td>\n",
       "    </tr>\n",
       "    <tr>\n",
       "      <th>4</th>\n",
       "      <td>3.0</td>\n",
       "      <td>a</td>\n",
       "    </tr>\n",
       "    <tr>\n",
       "      <th>5</th>\n",
       "      <td>NaN</td>\n",
       "      <td>c</td>\n",
       "    </tr>\n",
       "    <tr>\n",
       "      <th>6</th>\n",
       "      <td>6.0</td>\n",
       "      <td>None</td>\n",
       "    </tr>\n",
       "    <tr>\n",
       "      <th>7</th>\n",
       "      <td>5.0</td>\n",
       "      <td>a</td>\n",
       "    </tr>\n",
       "    <tr>\n",
       "      <th>8</th>\n",
       "      <td>8.0</td>\n",
       "      <td>f</td>\n",
       "    </tr>\n",
       "  </tbody>\n",
       "</table>\n",
       "</div>"
      ],
      "text/plain": [
       "     A     B\n",
       "0  1.0     a\n",
       "1  2.0     b\n",
       "2  NaN  None\n",
       "3  4.0     d\n",
       "4  3.0     a\n",
       "5  NaN     c\n",
       "6  6.0  None\n",
       "7  5.0     a\n",
       "8  8.0     f"
      ]
     },
     "execution_count": 6,
     "metadata": {},
     "output_type": "execute_result"
    }
   ],
   "source": [
    "# Data before imputation\n",
    "df"
   ]
  },
  {
   "cell_type": "code",
   "execution_count": 7,
   "id": "0c7d1b46",
   "metadata": {},
   "outputs": [],
   "source": [
    "df = trf.transform(df)"
   ]
  },
  {
   "cell_type": "code",
   "execution_count": 8,
   "id": "7f722f10",
   "metadata": {},
   "outputs": [
    {
     "data": {
      "text/plain": [
       "array([[1.0, 'a'],\n",
       "       [2.0, 'b'],\n",
       "       [4.142857142857143, 'a'],\n",
       "       [4.0, 'd'],\n",
       "       [3.0, 'a'],\n",
       "       [4.142857142857143, 'c'],\n",
       "       [6.0, 'a'],\n",
       "       [5.0, 'a'],\n",
       "       [8.0, 'f']], dtype=object)"
      ]
     },
     "execution_count": 8,
     "metadata": {},
     "output_type": "execute_result"
    }
   ],
   "source": [
    "# After Imputation\n",
    "df"
   ]
  },
  {
   "cell_type": "markdown",
   "id": "b0a41984",
   "metadata": {},
   "source": [
    "  \n",
    "   \n",
    "## 2. Standardization/Feature Scaling\n",
    "\n",
    "Feature scaling is the method to rescale the \n",
    "values present in the features. In feature scaling \n",
    "we convert the scale of different measurement \n",
    "into a single scale. It standardize the whole \n",
    "dataset in one range.\n",
    "\n",
    "**Importance of Feature Scaling**  \n",
    "When we are dealing with independent variable or features that differ from \n",
    "each other in terms of range of values or units of the features, then we have \n",
    "to normalize/standardize the data so that the difference in range of values \n",
    "doesn’t affect the outcome of the data.\n",
    "\n",
    "Certainly! Let's create a simple example to illustrate the importance of feature scaling:\n",
    "\n",
    "**Scenario**:  \n",
    "Suppose we're analyzing a dataset containing information about houses, including features like square footage, number of bedrooms, and price. The dataset also includes a binary feature indicating whether the house has a swimming pool (1 for yes, 0 for no).\n",
    "\n",
    "**Problem**:\n",
    "The features have different scales:\n",
    "- Square footage: Ranges from hundreds to thousands.\n",
    "- Number of bedrooms: Typically ranges from 1 to 5.\n",
    "- Price: Ranges from tens of thousands to millions.\n",
    "- Swimming pool (binary): Either 0 or 1.\n",
    "\n",
    "**Importance of Feature Scaling**:\n",
    "1. **Without Scaling**:\n",
    "   - If we don't scale the features, the model might give more importance to the feature with larger values (e.g., price) and less importance to features with smaller values (e.g., number of bedrooms).\n",
    "   - The swimming pool feature, being binary, won't be affected by scaling.\n",
    "\n",
    "2. **With Scaling**:\n",
    "   - By scaling all features to a common range (e.g., 0 to 1 or -1 to 1), we ensure that each feature contributes equally to the model.\n",
    "   - For example, if we scale the square footage, number of bedrooms, and price to a range of 0 to 1:\n",
    "     - A house with 2000 square feet, 3 bedrooms, and a price of $300,000 would have scaled values like 0.5, 0.4, and 0.3, respectively.\n",
    "     - Now all features are on the same scale, making comparisons fair.\n",
    "\n",
    "**Benefits**:\n",
    "- Improved model performance: Scaling prevents features with large values from dominating the model.\n",
    "- Faster convergence: Algorithms like gradient descent converge faster when features are scaled.\n",
    "- Accurate predictions: Ensures that differences in feature scales don't affect the outcome.\n",
    "\n",
    "### Feature Scaling Methods\n",
    "\n",
    "1. **Standard Scaler**:\n",
    "   - **Description**: Standard scaler ensures that for each feature, the mean is zero and the standard deviation is 1, bringing all feature to the same magnitude. In simple words Standardization helps you to scale down your feature based on the standard normal distribution.\n",
    "   - **Formula**: $Z = \\frac{{X - \\mu}}{{\\sigma}}$\n",
    "     - Brings all features to the same magnitude.\n",
    "     - Useful for algorithms sensitive to feature scales (e.g., linear regression).\n",
    "\n",
    "2. **Min-Max Scaler**:\n",
    "   - **Description**: Normalizes features to a range between 0 and 1.\n",
    "   - **Formula**: $X_{\\text{norm}} = \\frac{{X - X_{\\text{min}}}}{{X_{\\text{max}} - X_{\\text{min}}}}$\n",
    "     - Scales down features for fair comparisons.\n",
    "     - Useful when features have different units or ranges.\n",
    "     \n",
    "#### Examples\n",
    "\n",
    "Consider the following dataset representing house features:\n",
    "\n",
    "| House ID | Square Footage | Number of Bedrooms | Price (in thousands) | Has Swimming Pool |\n",
    "|----------|----------------|--------------------|-----------------------|-------------------|\n",
    "| 1        | 2000           | 3                  | 300                   | 1                 |\n",
    "| 2        | 1500           | 2                  | 250                   | 0                 |\n",
    "| 3        | 1800           | 4                  | 320                   | 1                 |\n",
    "| 4        | 2200           | 3                  | 350                   | 0                 |\n",
    "\n",
    "1. **Standard Scaler**:\n",
    "   - **Calculation**:\n",
    "   \n",
    "     - Formula: $Z = \\frac{{X - \\mu}}{{\\sigma}}$ (Find $\\mu$ and $\\sigma$)\n",
    "     \n",
    "     - Mean square footage: $\\mu = \\frac{{2000 + 1500 + 1800 + 2200}}{4} = 1875$\n",
    "     \n",
    "     - Standard deviation of square footage: $\\sigma = \\sqrt{\\frac{{(2000 - 1875)^2 + (1500 - 1875)^2 + (1800 - 1875)^2 + (2200 - 1875)^2}}{3}} \\approx 292.77$\n",
    "     \n",
    "     - Standardized square footage for House 1: $Z_1 = \\frac{{2000 - 1875}}{292.77} \\approx 0.42$  \n",
    "     \n",
    "     - 2000 is scaled down to 0.42. \n",
    "     \n",
    "2. **Min-Max Scaler**:  \n",
    "   - **Calculation**:  \n",
    "     - Minimum square footage: $X_{\\text{min}} = 1500$ \n",
    "     - Maximum square footage: $X_{\\text{max}} = 2200$  \n",
    "     - Normalized square footage for House 1: \\(X_{\\text{norm}} = \\frac{{2000 - 1500}}{{2200 - 1500}} = 0.5\\)  \n",
    "   - Scales features to a range between 0 and 1.\n",
    "   "
   ]
  },
  {
   "cell_type": "code",
   "execution_count": 9,
   "id": "4d5210d3",
   "metadata": {},
   "outputs": [
    {
     "data": {
      "text/html": [
       "<div>\n",
       "<style scoped>\n",
       "    .dataframe tbody tr th:only-of-type {\n",
       "        vertical-align: middle;\n",
       "    }\n",
       "\n",
       "    .dataframe tbody tr th {\n",
       "        vertical-align: top;\n",
       "    }\n",
       "\n",
       "    .dataframe thead th {\n",
       "        text-align: right;\n",
       "    }\n",
       "</style>\n",
       "<table border=\"1\" class=\"dataframe\">\n",
       "  <thead>\n",
       "    <tr style=\"text-align: right;\">\n",
       "      <th></th>\n",
       "      <th>RowNumber</th>\n",
       "      <th>CustomerId</th>\n",
       "      <th>Surname</th>\n",
       "      <th>CreditScore</th>\n",
       "      <th>Geography</th>\n",
       "      <th>Gender</th>\n",
       "      <th>Age</th>\n",
       "      <th>Tenure</th>\n",
       "      <th>Balance</th>\n",
       "      <th>NumOfProducts</th>\n",
       "      <th>HasCrCard</th>\n",
       "      <th>IsActiveMember</th>\n",
       "      <th>EstimatedSalary</th>\n",
       "      <th>Exited</th>\n",
       "    </tr>\n",
       "  </thead>\n",
       "  <tbody>\n",
       "    <tr>\n",
       "      <th>0</th>\n",
       "      <td>1</td>\n",
       "      <td>15634602</td>\n",
       "      <td>Hargrave</td>\n",
       "      <td>619</td>\n",
       "      <td>France</td>\n",
       "      <td>Female</td>\n",
       "      <td>42</td>\n",
       "      <td>2</td>\n",
       "      <td>0.00</td>\n",
       "      <td>1</td>\n",
       "      <td>1</td>\n",
       "      <td>1</td>\n",
       "      <td>101348.88</td>\n",
       "      <td>1</td>\n",
       "    </tr>\n",
       "    <tr>\n",
       "      <th>1</th>\n",
       "      <td>2</td>\n",
       "      <td>15647311</td>\n",
       "      <td>Hill</td>\n",
       "      <td>608</td>\n",
       "      <td>Spain</td>\n",
       "      <td>Female</td>\n",
       "      <td>41</td>\n",
       "      <td>1</td>\n",
       "      <td>83807.86</td>\n",
       "      <td>1</td>\n",
       "      <td>0</td>\n",
       "      <td>1</td>\n",
       "      <td>112542.58</td>\n",
       "      <td>0</td>\n",
       "    </tr>\n",
       "    <tr>\n",
       "      <th>2</th>\n",
       "      <td>3</td>\n",
       "      <td>15619304</td>\n",
       "      <td>Onio</td>\n",
       "      <td>502</td>\n",
       "      <td>France</td>\n",
       "      <td>Female</td>\n",
       "      <td>42</td>\n",
       "      <td>8</td>\n",
       "      <td>159660.80</td>\n",
       "      <td>3</td>\n",
       "      <td>1</td>\n",
       "      <td>0</td>\n",
       "      <td>113931.57</td>\n",
       "      <td>1</td>\n",
       "    </tr>\n",
       "    <tr>\n",
       "      <th>3</th>\n",
       "      <td>4</td>\n",
       "      <td>15701354</td>\n",
       "      <td>Boni</td>\n",
       "      <td>699</td>\n",
       "      <td>France</td>\n",
       "      <td>Female</td>\n",
       "      <td>39</td>\n",
       "      <td>1</td>\n",
       "      <td>0.00</td>\n",
       "      <td>2</td>\n",
       "      <td>0</td>\n",
       "      <td>0</td>\n",
       "      <td>93826.63</td>\n",
       "      <td>0</td>\n",
       "    </tr>\n",
       "    <tr>\n",
       "      <th>4</th>\n",
       "      <td>5</td>\n",
       "      <td>15737888</td>\n",
       "      <td>Mitchell</td>\n",
       "      <td>850</td>\n",
       "      <td>Spain</td>\n",
       "      <td>Female</td>\n",
       "      <td>43</td>\n",
       "      <td>2</td>\n",
       "      <td>125510.82</td>\n",
       "      <td>1</td>\n",
       "      <td>1</td>\n",
       "      <td>1</td>\n",
       "      <td>79084.10</td>\n",
       "      <td>0</td>\n",
       "    </tr>\n",
       "  </tbody>\n",
       "</table>\n",
       "</div>"
      ],
      "text/plain": [
       "   RowNumber  CustomerId   Surname  CreditScore Geography  Gender  Age  \\\n",
       "0          1    15634602  Hargrave          619    France  Female   42   \n",
       "1          2    15647311      Hill          608     Spain  Female   41   \n",
       "2          3    15619304      Onio          502    France  Female   42   \n",
       "3          4    15701354      Boni          699    France  Female   39   \n",
       "4          5    15737888  Mitchell          850     Spain  Female   43   \n",
       "\n",
       "   Tenure    Balance  NumOfProducts  HasCrCard  IsActiveMember  \\\n",
       "0       2       0.00              1          1               1   \n",
       "1       1   83807.86              1          0               1   \n",
       "2       8  159660.80              3          1               0   \n",
       "3       1       0.00              2          0               0   \n",
       "4       2  125510.82              1          1               1   \n",
       "\n",
       "   EstimatedSalary  Exited  \n",
       "0        101348.88       1  \n",
       "1        112542.58       0  \n",
       "2        113931.57       1  \n",
       "3         93826.63       0  \n",
       "4         79084.10       0  "
      ]
     },
     "execution_count": 9,
     "metadata": {},
     "output_type": "execute_result"
    }
   ],
   "source": [
    "# FEATURE SCALING CODE\n",
    "\n",
    "import pandas as pd \n",
    "import numpy as np\n",
    "import matplotlib.pyplot as plt\n",
    "import seaborn as sns\n",
    "\n",
    "df = pd.read_csv('Churn_Modelling.csv')\n",
    "df.head()"
   ]
  },
  {
   "cell_type": "code",
   "execution_count": 10,
   "id": "5e507f3a",
   "metadata": {},
   "outputs": [
    {
     "name": "stdout",
     "output_type": "stream",
     "text": [
      "<class 'pandas.core.frame.DataFrame'>\n",
      "RangeIndex: 10000 entries, 0 to 9999\n",
      "Data columns (total 14 columns):\n",
      " #   Column           Non-Null Count  Dtype  \n",
      "---  ------           --------------  -----  \n",
      " 0   RowNumber        10000 non-null  int64  \n",
      " 1   CustomerId       10000 non-null  int64  \n",
      " 2   Surname          10000 non-null  object \n",
      " 3   CreditScore      10000 non-null  int64  \n",
      " 4   Geography        10000 non-null  object \n",
      " 5   Gender           10000 non-null  object \n",
      " 6   Age              10000 non-null  int64  \n",
      " 7   Tenure           10000 non-null  int64  \n",
      " 8   Balance          10000 non-null  float64\n",
      " 9   NumOfProducts    10000 non-null  int64  \n",
      " 10  HasCrCard        10000 non-null  int64  \n",
      " 11  IsActiveMember   10000 non-null  int64  \n",
      " 12  EstimatedSalary  10000 non-null  float64\n",
      " 13  Exited           10000 non-null  int64  \n",
      "dtypes: float64(2), int64(9), object(3)\n",
      "memory usage: 1.1+ MB\n"
     ]
    }
   ],
   "source": [
    "df.info()"
   ]
  },
  {
   "cell_type": "code",
   "execution_count": 11,
   "id": "272cdda9",
   "metadata": {
    "scrolled": true
   },
   "outputs": [
    {
     "data": {
      "text/html": [
       "<div>\n",
       "<style scoped>\n",
       "    .dataframe tbody tr th:only-of-type {\n",
       "        vertical-align: middle;\n",
       "    }\n",
       "\n",
       "    .dataframe tbody tr th {\n",
       "        vertical-align: top;\n",
       "    }\n",
       "\n",
       "    .dataframe thead th {\n",
       "        text-align: right;\n",
       "    }\n",
       "</style>\n",
       "<table border=\"1\" class=\"dataframe\">\n",
       "  <thead>\n",
       "    <tr style=\"text-align: right;\">\n",
       "      <th></th>\n",
       "      <th>Age</th>\n",
       "      <th>Tenure</th>\n",
       "    </tr>\n",
       "  </thead>\n",
       "  <tbody>\n",
       "    <tr>\n",
       "      <th>0</th>\n",
       "      <td>42</td>\n",
       "      <td>2</td>\n",
       "    </tr>\n",
       "    <tr>\n",
       "      <th>1</th>\n",
       "      <td>41</td>\n",
       "      <td>1</td>\n",
       "    </tr>\n",
       "    <tr>\n",
       "      <th>2</th>\n",
       "      <td>42</td>\n",
       "      <td>8</td>\n",
       "    </tr>\n",
       "    <tr>\n",
       "      <th>3</th>\n",
       "      <td>39</td>\n",
       "      <td>1</td>\n",
       "    </tr>\n",
       "    <tr>\n",
       "      <th>4</th>\n",
       "      <td>43</td>\n",
       "      <td>2</td>\n",
       "    </tr>\n",
       "  </tbody>\n",
       "</table>\n",
       "</div>"
      ],
      "text/plain": [
       "   Age  Tenure\n",
       "0   42       2\n",
       "1   41       1\n",
       "2   42       8\n",
       "3   39       1\n",
       "4   43       2"
      ]
     },
     "execution_count": 11,
     "metadata": {},
     "output_type": "execute_result"
    }
   ],
   "source": [
    "n_df  = df[['Age','Tenure']]\n",
    "n_df1  = df[['Age','Tenure']]\n",
    "\n",
    "\n",
    "n_df.head()"
   ]
  },
  {
   "cell_type": "code",
   "execution_count": 12,
   "id": "b26e64b6",
   "metadata": {
    "scrolled": true
   },
   "outputs": [
    {
     "data": {
      "text/plain": [
       "array([[0.32432432, 0.2       ],\n",
       "       [0.31081081, 0.1       ],\n",
       "       [0.32432432, 0.8       ],\n",
       "       ...,\n",
       "       [0.24324324, 0.7       ],\n",
       "       [0.32432432, 0.3       ],\n",
       "       [0.13513514, 0.4       ]])"
      ]
     },
     "execution_count": 12,
     "metadata": {},
     "output_type": "execute_result"
    }
   ],
   "source": [
    "#Normalization\n",
    "from sklearn.preprocessing import MinMaxScaler\n",
    "scaler = MinMaxScaler() #instantiation\n",
    "n_df = scaler.fit_transform(n_df) # Scale down Age and Tenure between 0 and 1 \n",
    "n_df "
   ]
  },
  {
   "cell_type": "code",
   "execution_count": 13,
   "id": "148fef8f",
   "metadata": {},
   "outputs": [
    {
     "data": {
      "text/plain": [
       "array([[ 0.29351742, -1.04175968],\n",
       "       [ 0.19816383, -1.38753759],\n",
       "       [ 0.29351742,  1.03290776],\n",
       "       ...,\n",
       "       [-0.27860412,  0.68712986],\n",
       "       [ 0.29351742, -0.69598177],\n",
       "       [-1.04143285, -0.35020386]])"
      ]
     },
     "execution_count": 13,
     "metadata": {},
     "output_type": "execute_result"
    }
   ],
   "source": [
    "#Standardization\n",
    "from sklearn.preprocessing import StandardScaler\n",
    "scaler = StandardScaler()\n",
    "n_df1 = scaler.fit_transform(n_df1) #scale down Age and Tenure between -1 to 1\n",
    "n_df1"
   ]
  },
  {
   "cell_type": "code",
   "execution_count": 14,
   "id": "b806e6e4",
   "metadata": {
    "scrolled": true
   },
   "outputs": [
    {
     "data": {
      "text/html": [
       "<div>\n",
       "<style scoped>\n",
       "    .dataframe tbody tr th:only-of-type {\n",
       "        vertical-align: middle;\n",
       "    }\n",
       "\n",
       "    .dataframe tbody tr th {\n",
       "        vertical-align: top;\n",
       "    }\n",
       "\n",
       "    .dataframe thead th {\n",
       "        text-align: right;\n",
       "    }\n",
       "</style>\n",
       "<table border=\"1\" class=\"dataframe\">\n",
       "  <thead>\n",
       "    <tr style=\"text-align: right;\">\n",
       "      <th></th>\n",
       "      <th>RowNumber</th>\n",
       "      <th>CustomerId</th>\n",
       "      <th>Surname</th>\n",
       "      <th>CreditScore</th>\n",
       "      <th>Geography</th>\n",
       "      <th>Gender</th>\n",
       "      <th>Age</th>\n",
       "      <th>Tenure</th>\n",
       "      <th>Balance</th>\n",
       "      <th>NumOfProducts</th>\n",
       "      <th>HasCrCard</th>\n",
       "      <th>IsActiveMember</th>\n",
       "      <th>EstimatedSalary</th>\n",
       "      <th>Exited</th>\n",
       "    </tr>\n",
       "  </thead>\n",
       "  <tbody>\n",
       "    <tr>\n",
       "      <th>0</th>\n",
       "      <td>1</td>\n",
       "      <td>15634602</td>\n",
       "      <td>Hargrave</td>\n",
       "      <td>619</td>\n",
       "      <td>France</td>\n",
       "      <td>Female</td>\n",
       "      <td>0.324324</td>\n",
       "      <td>0.2</td>\n",
       "      <td>0.00</td>\n",
       "      <td>1</td>\n",
       "      <td>1</td>\n",
       "      <td>1</td>\n",
       "      <td>101348.88</td>\n",
       "      <td>1</td>\n",
       "    </tr>\n",
       "    <tr>\n",
       "      <th>1</th>\n",
       "      <td>2</td>\n",
       "      <td>15647311</td>\n",
       "      <td>Hill</td>\n",
       "      <td>608</td>\n",
       "      <td>Spain</td>\n",
       "      <td>Female</td>\n",
       "      <td>0.310811</td>\n",
       "      <td>0.1</td>\n",
       "      <td>83807.86</td>\n",
       "      <td>1</td>\n",
       "      <td>0</td>\n",
       "      <td>1</td>\n",
       "      <td>112542.58</td>\n",
       "      <td>0</td>\n",
       "    </tr>\n",
       "    <tr>\n",
       "      <th>2</th>\n",
       "      <td>3</td>\n",
       "      <td>15619304</td>\n",
       "      <td>Onio</td>\n",
       "      <td>502</td>\n",
       "      <td>France</td>\n",
       "      <td>Female</td>\n",
       "      <td>0.324324</td>\n",
       "      <td>0.8</td>\n",
       "      <td>159660.80</td>\n",
       "      <td>3</td>\n",
       "      <td>1</td>\n",
       "      <td>0</td>\n",
       "      <td>113931.57</td>\n",
       "      <td>1</td>\n",
       "    </tr>\n",
       "    <tr>\n",
       "      <th>3</th>\n",
       "      <td>4</td>\n",
       "      <td>15701354</td>\n",
       "      <td>Boni</td>\n",
       "      <td>699</td>\n",
       "      <td>France</td>\n",
       "      <td>Female</td>\n",
       "      <td>0.283784</td>\n",
       "      <td>0.1</td>\n",
       "      <td>0.00</td>\n",
       "      <td>2</td>\n",
       "      <td>0</td>\n",
       "      <td>0</td>\n",
       "      <td>93826.63</td>\n",
       "      <td>0</td>\n",
       "    </tr>\n",
       "    <tr>\n",
       "      <th>4</th>\n",
       "      <td>5</td>\n",
       "      <td>15737888</td>\n",
       "      <td>Mitchell</td>\n",
       "      <td>850</td>\n",
       "      <td>Spain</td>\n",
       "      <td>Female</td>\n",
       "      <td>0.337838</td>\n",
       "      <td>0.2</td>\n",
       "      <td>125510.82</td>\n",
       "      <td>1</td>\n",
       "      <td>1</td>\n",
       "      <td>1</td>\n",
       "      <td>79084.10</td>\n",
       "      <td>0</td>\n",
       "    </tr>\n",
       "  </tbody>\n",
       "</table>\n",
       "</div>"
      ],
      "text/plain": [
       "   RowNumber  CustomerId   Surname  CreditScore Geography  Gender       Age  \\\n",
       "0          1    15634602  Hargrave          619    France  Female  0.324324   \n",
       "1          2    15647311      Hill          608     Spain  Female  0.310811   \n",
       "2          3    15619304      Onio          502    France  Female  0.324324   \n",
       "3          4    15701354      Boni          699    France  Female  0.283784   \n",
       "4          5    15737888  Mitchell          850     Spain  Female  0.337838   \n",
       "\n",
       "   Tenure    Balance  NumOfProducts  HasCrCard  IsActiveMember  \\\n",
       "0     0.2       0.00              1          1               1   \n",
       "1     0.1   83807.86              1          0               1   \n",
       "2     0.8  159660.80              3          1               0   \n",
       "3     0.1       0.00              2          0               0   \n",
       "4     0.2  125510.82              1          1               1   \n",
       "\n",
       "   EstimatedSalary  Exited  \n",
       "0        101348.88       1  \n",
       "1        112542.58       0  \n",
       "2        113931.57       1  \n",
       "3         93826.63       0  \n",
       "4         79084.10       0  "
      ]
     },
     "execution_count": 14,
     "metadata": {},
     "output_type": "execute_result"
    }
   ],
   "source": [
    "new_df = df.copy()\n",
    "new_df[['Age','Tenure']] = n_df\n",
    "new_df.head()"
   ]
  },
  {
   "cell_type": "code",
   "execution_count": null,
   "id": "dd16d9ff",
   "metadata": {},
   "outputs": [],
   "source": []
  },
  {
   "cell_type": "markdown",
   "id": "7d3beb75",
   "metadata": {},
   "source": [
    "## 3. Outlier Treatment\n",
    "\n",
    "1. **Definition**:\n",
    "   - Outliers are extreme values in the data that deviate from the norm and do not fit in the normal behavior of the data.  \n",
    "\n",
    "### Detecting Outliers:\n",
    "\n",
    "   - Use the following methods:\n",
    "     - **Boxplot**: Visual representation to identify outliers.\n",
    "     - **Histogram**: Analyze frequency distribution to spot unusual bars.\n",
    "     - **Scatter plot**: Visualize data points to identify those that fall far from others.\n",
    "     - **Z-score**: Measure of how many standard deviations a data point is from the mean.\n",
    "     - **Interquartile Range (IQR)**: Identify values out of 1.5 times of IQR as outliers.\n",
    "\n",
    "### Handling Outliers:\n",
    "\n",
    "1. **Remove Outliers**:\n",
    "    - The simplest approach is to **remove the outliers** from your dataset.\n",
    "    - Be cautious: removing too many outliers can significantly affect your sample size and potentially bias your analysis.\n",
    "    - Use this method when outliers are due to measurement errors or data entry mistakes.\n",
    "\n",
    "2. **Transform Data**:\n",
    "    - Apply a **mathematical transformation** to your data to reduce the impact of outliers.\n",
    "    - Common transformations include:\n",
    "        - **Logarithmic transformation**: Useful when data has a skewed distribution.\n",
    "        - **Square root transformation**: Also helps with skewed data.\n",
    "        - **Box-Cox transformation**: Generalizes both logarithmic and square root transformations.\n",
    "    - Transformed data might be more suitable for analysis.\n",
    "\n",
    "3. **Winsorization**:\n",
    "    - Instead of removing outliers, **Winsorize** them.\n",
    "    - Replace extreme values with values at a certain percentile (e.g., 95th percentile or 1st percentile).\n",
    "    - This reduces the impact of outliers without completely discarding them.\n",
    "\n",
    "4. **Impute Values**:\n",
    "    - If you don't want to remove outliers, consider **imputing** them.\n",
    "    - Replace outliers with a reasonable value (e.g., mean, median, or a value predicted by a model).\n",
    "    - Imputation helps maintain sample size.\n",
    "\n",
    "5. **Robust Statistical Methods**:\n",
    "    - Use statistical methods that are **robust to outliers**.\n",
    "    - Examples:\n",
    "        - **Median** instead of mean (less sensitive to outliers).\n",
    "        - **MAD (Median Absolute Deviation)** instead of standard deviation.\n",
    "        - **Nonparametric tests** (e.g., Wilcoxon rank-sum test) that don't assume normality.\n",
    "\n",
    "6. **Visualize and Investigate**:\n",
    "    - Plot your data to understand the impact of outliers.\n",
    "    - Investigate why outliers exist (e.g., data collection process, genuine extreme values).\n",
    "    - Context matters!\n",
    "    \n",
    "7. **Machine Learning Models**:\n",
    "    - Utilize models like KNN, Decision Tree, SVM, Naïve Bayes, or Ensemble methods which are not sensitive to outliers."
   ]
  },
  {
   "cell_type": "code",
   "execution_count": 15,
   "id": "c0f635ee",
   "metadata": {},
   "outputs": [
    {
     "data": {
      "text/html": [
       "<div>\n",
       "<style scoped>\n",
       "    .dataframe tbody tr th:only-of-type {\n",
       "        vertical-align: middle;\n",
       "    }\n",
       "\n",
       "    .dataframe tbody tr th {\n",
       "        vertical-align: top;\n",
       "    }\n",
       "\n",
       "    .dataframe thead th {\n",
       "        text-align: right;\n",
       "    }\n",
       "</style>\n",
       "<table border=\"1\" class=\"dataframe\">\n",
       "  <thead>\n",
       "    <tr style=\"text-align: right;\">\n",
       "      <th></th>\n",
       "      <th>datesold</th>\n",
       "      <th>postcode</th>\n",
       "      <th>price</th>\n",
       "      <th>propertyType</th>\n",
       "      <th>bedrooms</th>\n",
       "    </tr>\n",
       "  </thead>\n",
       "  <tbody>\n",
       "    <tr>\n",
       "      <th>0</th>\n",
       "      <td>2007-02-07 00:00:00</td>\n",
       "      <td>2607</td>\n",
       "      <td>525000</td>\n",
       "      <td>house</td>\n",
       "      <td>4</td>\n",
       "    </tr>\n",
       "    <tr>\n",
       "      <th>1</th>\n",
       "      <td>2007-02-27 00:00:00</td>\n",
       "      <td>2906</td>\n",
       "      <td>290000</td>\n",
       "      <td>house</td>\n",
       "      <td>3</td>\n",
       "    </tr>\n",
       "    <tr>\n",
       "      <th>2</th>\n",
       "      <td>2007-03-07 00:00:00</td>\n",
       "      <td>2905</td>\n",
       "      <td>328000</td>\n",
       "      <td>house</td>\n",
       "      <td>3</td>\n",
       "    </tr>\n",
       "    <tr>\n",
       "      <th>3</th>\n",
       "      <td>2007-03-09 00:00:00</td>\n",
       "      <td>2905</td>\n",
       "      <td>380000</td>\n",
       "      <td>house</td>\n",
       "      <td>4</td>\n",
       "    </tr>\n",
       "    <tr>\n",
       "      <th>4</th>\n",
       "      <td>2007-03-21 00:00:00</td>\n",
       "      <td>2906</td>\n",
       "      <td>310000</td>\n",
       "      <td>house</td>\n",
       "      <td>3</td>\n",
       "    </tr>\n",
       "  </tbody>\n",
       "</table>\n",
       "</div>"
      ],
      "text/plain": [
       "              datesold  postcode   price propertyType  bedrooms\n",
       "0  2007-02-07 00:00:00      2607  525000        house         4\n",
       "1  2007-02-27 00:00:00      2906  290000        house         3\n",
       "2  2007-03-07 00:00:00      2905  328000        house         3\n",
       "3  2007-03-09 00:00:00      2905  380000        house         4\n",
       "4  2007-03-21 00:00:00      2906  310000        house         3"
      ]
     },
     "execution_count": 15,
     "metadata": {},
     "output_type": "execute_result"
    }
   ],
   "source": [
    "import pandas as pd\n",
    "import numpy as np\n",
    "import seaborn as sns\n",
    "import matplotlib.pyplot as plt\n",
    "import statistics\n",
    "\n",
    "original_df = pd.read_csv(\"raw_sales.csv\")\n",
    "\n",
    "df = original_df.copy()    #good practice\n",
    "\n",
    "df.head()"
   ]
  },
  {
   "cell_type": "code",
   "execution_count": 16,
   "id": "606b3888",
   "metadata": {
    "scrolled": true
   },
   "outputs": [
    {
     "name": "stdout",
     "output_type": "stream",
     "text": [
      "<class 'pandas.core.frame.DataFrame'>\n",
      "RangeIndex: 29580 entries, 0 to 29579\n",
      "Data columns (total 5 columns):\n",
      " #   Column        Non-Null Count  Dtype \n",
      "---  ------        --------------  ----- \n",
      " 0   datesold      29580 non-null  object\n",
      " 1   postcode      29580 non-null  int64 \n",
      " 2   price         29580 non-null  int64 \n",
      " 3   propertyType  29580 non-null  object\n",
      " 4   bedrooms      29580 non-null  int64 \n",
      "dtypes: int64(3), object(2)\n",
      "memory usage: 1.1+ MB\n"
     ]
    }
   ],
   "source": [
    "df.info()"
   ]
  },
  {
   "cell_type": "code",
   "execution_count": 17,
   "id": "c784acc6",
   "metadata": {},
   "outputs": [
    {
     "data": {
      "text/plain": [
       "<Axes: >"
      ]
     },
     "execution_count": 17,
     "metadata": {},
     "output_type": "execute_result"
    },
    {
     "data": {
      "image/png": "[encoded data removed]",
      "text/plain": [
       "<Figure size 640x480 with 1 Axes>"
      ]
     },
     "metadata": {},
     "output_type": "display_data"
    }
   ],
   "source": [
    "df.drop('postcode',axis=1, inplace=True)\n",
    "sns.boxplot(df)"
   ]
  },
  {
   "cell_type": "markdown",
   "id": "01c27362",
   "metadata": {},
   "source": [
    "As we can see we have too much outliers in our price column"
   ]
  },
  {
   "cell_type": "code",
   "execution_count": 18,
   "id": "032a516f",
   "metadata": {},
   "outputs": [
    {
     "name": "stdout",
     "output_type": "stream",
     "text": [
      "1374\n"
     ]
    }
   ],
   "source": [
    "# Let's handle outliers\n",
    "#IQR method to detect outliers\n",
    "\n",
    "def find_outliers(data):\n",
    "    outlier = []\n",
    "    q2 = np.median(data)\n",
    "    q1,q3 = np.percentile(data,[25,75])\n",
    "    \n",
    "    iqr = q3-q1\n",
    "    \n",
    "    ub = q3+(1.5*iqr)\n",
    "    lb = q1-(1.5*iqr)\n",
    "    \n",
    "    for i in data:\n",
    "        if i <= ub and i >= lb:\n",
    "            continue\n",
    "        else:\n",
    "            outlier.append(i)\n",
    "\n",
    "    return outlier\n",
    "\n",
    "data = df.price\n",
    "outlier = find_outliers(data)\n",
    "print(len(outlier))"
   ]
  },
  {
   "cell_type": "code",
   "execution_count": 19,
   "id": "d24f02e3",
   "metadata": {},
   "outputs": [],
   "source": [
    "# Another technique to detect outliers\n",
    "# Function to Detection Outlier on one-dimentional datasets. Works well when data is normally distributed\n",
    "# after Third standard deviation of normal distribution is outliers\n",
    "\n",
    "def find_anomalies(data):\n",
    "    #define a list to accumlate anomalies\n",
    "    anomalies = []\n",
    "    \n",
    "    # Set upper and lower limit to 3 standard deviation\n",
    "    random_data_std = np.std(data)\n",
    "    random_data_mean = np.mean(data)\n",
    "    \n",
    "    # 3-standard deviation\n",
    "    anomaly_cut_off = random_data_std * 3\n",
    "    \n",
    "    lower_limit  = random_data_mean - anomaly_cut_off \n",
    "    upper_limit = random_data_mean + anomaly_cut_off\n",
    "    \n",
    "    # Generate outliers\n",
    "    for outlier in data:\n",
    "        if outlier > upper_limit or outlier < lower_limit:\n",
    "            anomalies.append(outlier)\n",
    "    return anomalies"
   ]
  },
  {
   "cell_type": "code",
   "execution_count": 20,
   "id": "ee6bc69d",
   "metadata": {},
   "outputs": [
    {
     "name": "stderr",
     "output_type": "stream",
     "text": [
      "C:\\Users\\aly98\\anaconda3\\Lib\\site-packages\\seaborn\\_oldcore.py:1119: FutureWarning: use_inf_as_na option is deprecated and will be removed in a future version. Convert inf values to NaN before operating instead.\n",
      "  with pd.option_context('mode.use_inf_as_na', True):\n"
     ]
    },
    {
     "name": "stdout",
     "output_type": "stream",
     "text": [
      "outliers :  461\n",
      "skewness :  4.312009366902366\n"
     ]
    },
    {
     "data": {
      "image/png": "[encoded data removed]",
      "text/plain": [
       "<Figure size 640x480 with 1 Axes>"
      ]
     },
     "metadata": {},
     "output_type": "display_data"
    }
   ],
   "source": [
    "outlier = find_anomalies(df.price)  # detecting outlier with 2nd function\n",
    "sns.kdeplot(df.price)\n",
    "\n",
    "print(\"outliers : \",len(outlier))\n",
    "print(\"skewness : \",df.price.skew())"
   ]
  },
  {
   "cell_type": "markdown",
   "id": "ef98329a",
   "metadata": {},
   "source": [
    "As we can see our data is skewed and it is not normally distributed let's use transformation technique to check if we can get normal distribution"
   ]
  },
  {
   "cell_type": "code",
   "execution_count": 21,
   "id": "8f6c8b76",
   "metadata": {},
   "outputs": [
    {
     "name": "stderr",
     "output_type": "stream",
     "text": [
      "C:\\Users\\aly98\\anaconda3\\Lib\\site-packages\\seaborn\\_oldcore.py:1119: FutureWarning: use_inf_as_na option is deprecated and will be removed in a future version. Convert inf values to NaN before operating instead.\n",
      "  with pd.option_context('mode.use_inf_as_na', True):\n"
     ]
    },
    {
     "name": "stdout",
     "output_type": "stream",
     "text": [
      "skewness after transformation:  0.4731646269984763\n",
      "Outliers after transformation :  266\n"
     ]
    },
    {
     "data": {
      "image/png": "[encoded data removed]",
      "text/plain": [
       "<Figure size 640x480 with 1 Axes>"
      ]
     },
     "metadata": {},
     "output_type": "display_data"
    }
   ],
   "source": [
    "# Use log transformation technique to reduce the impact of outliers\n",
    "\n",
    "# Logarithmic transformation (useful when data is skewed)\n",
    "df_transf = np.log(df.price)\n",
    "\n",
    "# df_transf is transformed, now we might get less outliers\n",
    "\n",
    "sns.kdeplot(df_transf)\n",
    "\n",
    "print(\"skewness after transformation: \",df_transf.skew())\n",
    "print(\"Outliers after transformation : \", len(find_anomalies(df_transf)))"
   ]
  },
  {
   "cell_type": "code",
   "execution_count": 22,
   "id": "887bee85",
   "metadata": {},
   "outputs": [
    {
     "name": "stderr",
     "output_type": "stream",
     "text": [
      "C:\\Users\\aly98\\anaconda3\\Lib\\site-packages\\scipy\\stats\\_morestats.py:1882: UserWarning: p-value may not be accurate for N > 5000.\n",
      "  warnings.warn(\"p-value may not be accurate for N > 5000.\")\n"
     ]
    },
    {
     "data": {
      "text/plain": [
       "ShapiroResult(statistic=0.9816818833351135, pvalue=0.0)"
      ]
     },
     "execution_count": 22,
     "metadata": {},
     "output_type": "execute_result"
    }
   ],
   "source": [
    "from scipy.stats import shapiro\n",
    "\n",
    "shapiro(df_transf)"
   ]
  },
  {
   "cell_type": "markdown",
   "id": "db7d3fbc",
   "metadata": {},
   "source": [
    "Still our data is not following normal distribution better to detect outliers with IQR method"
   ]
  },
  {
   "cell_type": "code",
   "execution_count": 23,
   "id": "28a7240c",
   "metadata": {
    "scrolled": true
   },
   "outputs": [
    {
     "name": "stdout",
     "output_type": "stream",
     "text": [
      "Before outliers:  1374\n",
      "After outliers:  609\n"
     ]
    }
   ],
   "source": [
    "print(\"Before outliers: \",len(find_outliers(df.price)))\n",
    "print(\"After outliers: \",len(find_outliers(df_transf)))"
   ]
  },
  {
   "cell_type": "code",
   "execution_count": 24,
   "id": "2db3bd8a",
   "metadata": {},
   "outputs": [
    {
     "name": "stdout",
     "output_type": "stream",
     "text": [
      "Before outliers:  609\n",
      "After outliers:  575\n"
     ]
    }
   ],
   "source": [
    "# Double log tranformation\n",
    "\n",
    "df_transf2 = np.log(df_transf)\n",
    "\n",
    "print(\"Before outliers: \",len(find_outliers(df_transf)))\n",
    "print(\"After outliers: \",len(find_outliers(df_transf2)))"
   ]
  },
  {
   "cell_type": "code",
   "execution_count": 25,
   "id": "f043fbf1",
   "metadata": {},
   "outputs": [
    {
     "data": {
      "text/plain": [
       "<Axes: >"
      ]
     },
     "execution_count": 25,
     "metadata": {},
     "output_type": "execute_result"
    },
    {
     "data": {
      "image/png": "[encoded data removed]",
      "text/plain": [
       "<Figure size 640x480 with 1 Axes>"
      ]
     },
     "metadata": {},
     "output_type": "display_data"
    }
   ],
   "source": [
    "sns.boxplot(df_transf2)"
   ]
  },
  {
   "cell_type": "markdown",
   "id": "6a42efbe",
   "metadata": {},
   "source": [
    "## 4. Handling Invalid Values\n",
    "\n",
    "1. **Encode Unicode Properly**:\n",
    "   - If data is read as junk characters, change the encoding (e.g., use CP1252 instead of UTF-8).\n",
    "   - Ensures proper representation of special characters and non-ASCII characters.\n",
    "\n",
    "2. **Convert Incorrect Data Types**:\n",
    "   - Correct data types for ease of analysis:\n",
    "     - Convert numeric values stored as strings to actual numbers (e.g., \"12,300\" to 12300).\n",
    "     - Convert string dates to datetime objects (e.g., \"2013 Aug\" to a valid date format).\n",
    "\n",
    "3. **Correct Values that Go Beyond Range**:\n",
    "   - Address values that exceed logical ranges:\n",
    "     - For example, temperatures below absolute zero need correction or removal.\n",
    "     - Ensure data adheres to valid boundaries.\n",
    "\n",
    "4. **Correct Wrong Structure**:\n",
    "   - Remove values that don't follow a defined structure:\n",
    "     - For instance, incorrect formats of PIN codes or other structured data.\n",
    "     - Maintain consistency in data structure.\n",
    "     "
   ]
  },
  {
   "cell_type": "code",
   "execution_count": 26,
   "id": "5dec6a93",
   "metadata": {},
   "outputs": [
    {
     "name": "stdout",
     "output_type": "stream",
     "text": [
      "   ID   Age   Income\n",
      "0   1  25.0  50000.0\n",
      "1   2   NaN      NaN\n",
      "2   3  30.0  60000.0\n",
      "3   4  22.0  40000.0\n",
      "4   5   NaN  75000.0\n"
     ]
    }
   ],
   "source": [
    "import pandas as pd\n",
    "import numpy as np\n",
    "\n",
    "# Example dataset with invalid values\n",
    "data = pd.DataFrame({\n",
    "    'ID': [1, 2, 3, 4, 5],\n",
    "    'Age': [25, 'unknown', 30, '22', 'N/A'],\n",
    "    'Income': ['$50,000','$unknown', '$60,000', '$40,000', '$75,000']\n",
    "})\n",
    "\n",
    "# Handling invalid values\n",
    "# 1. Convert numeric values stored as strings to actual numbers\n",
    "data['Income'] = data['Income'].str.replace('$','').str.replace(',','').replace('unknown',np.NaN).astype(float)\n",
    "\n",
    "# 2. Replace invalid age values with NaN and convert to numeric value, (if only can be converted into numeric)\n",
    "data['Age'] = pd.to_numeric(data['Age'], errors = 'coerce')  # errors='coerce' --> if any value cannot be converted to a number, it will be replaced with NaN (Not-a-Number).\n",
    "\n",
    "print(data)\n"
   ]
  },
  {
   "cell_type": "code",
   "execution_count": 27,
   "id": "ab5bde2c",
   "metadata": {},
   "outputs": [
    {
     "name": "stdout",
     "output_type": "stream",
     "text": [
      "   ID   Age   Income\n",
      "0   1  25.0  50000.0\n",
      "2   3  30.0  60000.0\n",
      "3   4  22.0  40000.0\n",
      "4   5   NaN  75000.0\n"
     ]
    }
   ],
   "source": [
    "# 3. Remove rows with 2 missing values\n",
    "\n",
    "data.dropna(axis=0, thresh=2, inplace=True)\n",
    "\n",
    "print(data)"
   ]
  },
  {
   "cell_type": "code",
   "execution_count": 28,
   "id": "5fefd650",
   "metadata": {},
   "outputs": [
    {
     "name": "stdout",
     "output_type": "stream",
     "text": [
      "<class 'pandas.core.frame.DataFrame'>\n",
      "Index: 4 entries, 0 to 4\n",
      "Data columns (total 3 columns):\n",
      " #   Column  Non-Null Count  Dtype  \n",
      "---  ------  --------------  -----  \n",
      " 0   ID      4 non-null      int64  \n",
      " 1   Age     3 non-null      float64\n",
      " 2   Income  4 non-null      float64\n",
      "dtypes: float64(2), int64(1)\n",
      "memory usage: 128.0 bytes\n"
     ]
    }
   ],
   "source": [
    "data.info()"
   ]
  },
  {
   "cell_type": "markdown",
   "id": "f39ae3fa",
   "metadata": {},
   "source": [
    "# Data Analysis\n",
    " \n",
    " Before dive deep into Data analysis, it’s essential to understand the fundamentals of data and its various types.\n",
    " \n",
    " **Types of Data**\n",
    " \n",
    "Certainly! Let's create detailed notes with examples for your Jupyter Notebook markdown. I'll break down each type of data and provide relevant examples:\n",
    "\n",
    "## Types of Data\n",
    "\n",
    "### 1. Qualitative Data\n",
    "- **Definition**: Qualitative data describes the quality or characteristics of a population using categorical values.\n",
    "- **Examples**:\n",
    "    - **Nominal Data**:\n",
    "        - Represents categories without any inherent order.\n",
    "        - Examples: \n",
    "            - Colors (e.g., red, blue, green)\n",
    "            - Types of fruits (e.g., apple, banana, orange)\n",
    "    - **Ordinal Data**:\n",
    "        - Represents categories with a clear order or hierarchy.\n",
    "        - Examples:\n",
    "            - Education levels (e.g., elementary, high school, college)\n",
    "            - Customer satisfaction ratings (e.g., poor, fair, excellent)\n",
    "\n",
    "### 2. Quantitative Data\n",
    "- **Definition**: Quantitative data quantifies the population using numerical values.\n",
    "- **Examples**:\n",
    "    - **Discrete Data**:\n",
    "        - Consists of distinct, separate values.\n",
    "        - Examples:\n",
    "            - Number of students in a class\n",
    "            - Count of defective products in a batch\n",
    "    - **Continuous Data**:\n",
    "        - Can take any value within a range.\n",
    "        - Examples:\n",
    "            - Height (measured in inches or centimeters)\n",
    "            - Temperature (measured in degrees Celsius or Fahrenheit)\n",
    "\n",
    "\n",
    "## Type of Analysis\n",
    "    1. Univariate Analysis\n",
    "    2. Bivariate Analysis\n",
    "    3. Multivariate Analysis\n",
    "    4. Numerical Analysis\n",
    "\n",
    "### Univariate Analysis\n",
    "\n",
    "**Univariate analysis** focuses on examining and exploring **a single variable** within a dataset. It involves generating summary statistics and visualizations to understand the distribution and characteristics of that specific variable. Let's break it down:\n",
    "\n",
    "1. **Categorical Variables**:\n",
    "   - For categorical variables (also known as **discrete variables**), univariate analysis helps us understand the **frequency** of different categories. Examples of categorical variables include gender (male/female), color (red/blue/green), and type of flower (rose/tulip/daisy).\n",
    "   - Common techniques for visualizing categorical variables include **bar charts**, **pie charts**, and **frequency tables**.\n",
    "\n",
    "2. **Numerical Variables**:\n",
    "   - For numerical variables (also known as **continuous variables**), univariate analysis explores their **distribution**. Examples of numerical variables include age, height, and temperature.\n",
    "   - Techniques for visualizing numerical variables include **histograms**, **box plots**, and **density plots**.\n",
    "\n",
    "3. **Binning or Discretization**:\n",
    "   - Sometimes, numerical variables can be transformed into categorical counterparts through a process called **binning** or **discretization**. This involves dividing the continuous range of values into discrete intervals (bins).\n",
    "   - For instance, if we have a continuous variable like \"income,\" we can create income groups (e.g., low income, medium income, high income) to analyze its distribution.\n",
    "\n",
    "In summary, univariate analysis is applicable to both categorical and numerical variables, allowing us to gain insights into individual features within a dataset.\n",
    "\n",
    "  "
   ]
  },
  {
   "cell_type": "code",
   "execution_count": 29,
   "id": "7ea145f5",
   "metadata": {},
   "outputs": [],
   "source": [
    "import pandas as pd\n",
    "import numpy as np\n",
    "import matplotlib.pyplot as plt\n",
    "import seaborn as sns"
   ]
  },
  {
   "cell_type": "code",
   "execution_count": 30,
   "id": "18f4a0d8",
   "metadata": {
    "scrolled": true
   },
   "outputs": [
    {
     "data": {
      "text/html": [
       "<div>\n",
       "<style scoped>\n",
       "    .dataframe tbody tr th:only-of-type {\n",
       "        vertical-align: middle;\n",
       "    }\n",
       "\n",
       "    .dataframe tbody tr th {\n",
       "        vertical-align: top;\n",
       "    }\n",
       "\n",
       "    .dataframe thead th {\n",
       "        text-align: right;\n",
       "    }\n",
       "</style>\n",
       "<table border=\"1\" class=\"dataframe\">\n",
       "  <thead>\n",
       "    <tr style=\"text-align: right;\">\n",
       "      <th></th>\n",
       "      <th>PassengerId</th>\n",
       "      <th>Survived</th>\n",
       "      <th>Pclass</th>\n",
       "      <th>Name</th>\n",
       "      <th>Sex</th>\n",
       "      <th>Age</th>\n",
       "      <th>SibSp</th>\n",
       "      <th>Parch</th>\n",
       "      <th>Ticket</th>\n",
       "      <th>Fare</th>\n",
       "      <th>Cabin</th>\n",
       "      <th>Embarked</th>\n",
       "    </tr>\n",
       "  </thead>\n",
       "  <tbody>\n",
       "    <tr>\n",
       "      <th>0</th>\n",
       "      <td>1</td>\n",
       "      <td>0</td>\n",
       "      <td>3</td>\n",
       "      <td>Braund, Mr. Owen Harris</td>\n",
       "      <td>male</td>\n",
       "      <td>22.0</td>\n",
       "      <td>1</td>\n",
       "      <td>0</td>\n",
       "      <td>A/5 21171</td>\n",
       "      <td>7.2500</td>\n",
       "      <td>NaN</td>\n",
       "      <td>S</td>\n",
       "    </tr>\n",
       "    <tr>\n",
       "      <th>1</th>\n",
       "      <td>2</td>\n",
       "      <td>1</td>\n",
       "      <td>1</td>\n",
       "      <td>Cumings, Mrs. John Bradley (Florence Briggs Th...</td>\n",
       "      <td>female</td>\n",
       "      <td>38.0</td>\n",
       "      <td>1</td>\n",
       "      <td>0</td>\n",
       "      <td>PC 17599</td>\n",
       "      <td>71.2833</td>\n",
       "      <td>C85</td>\n",
       "      <td>C</td>\n",
       "    </tr>\n",
       "    <tr>\n",
       "      <th>2</th>\n",
       "      <td>3</td>\n",
       "      <td>1</td>\n",
       "      <td>3</td>\n",
       "      <td>Heikkinen, Miss. Laina</td>\n",
       "      <td>female</td>\n",
       "      <td>26.0</td>\n",
       "      <td>0</td>\n",
       "      <td>0</td>\n",
       "      <td>STON/O2. 3101282</td>\n",
       "      <td>7.9250</td>\n",
       "      <td>NaN</td>\n",
       "      <td>S</td>\n",
       "    </tr>\n",
       "    <tr>\n",
       "      <th>3</th>\n",
       "      <td>4</td>\n",
       "      <td>1</td>\n",
       "      <td>1</td>\n",
       "      <td>Futrelle, Mrs. Jacques Heath (Lily May Peel)</td>\n",
       "      <td>female</td>\n",
       "      <td>35.0</td>\n",
       "      <td>1</td>\n",
       "      <td>0</td>\n",
       "      <td>113803</td>\n",
       "      <td>53.1000</td>\n",
       "      <td>C123</td>\n",
       "      <td>S</td>\n",
       "    </tr>\n",
       "    <tr>\n",
       "      <th>4</th>\n",
       "      <td>5</td>\n",
       "      <td>0</td>\n",
       "      <td>3</td>\n",
       "      <td>Allen, Mr. William Henry</td>\n",
       "      <td>male</td>\n",
       "      <td>35.0</td>\n",
       "      <td>0</td>\n",
       "      <td>0</td>\n",
       "      <td>373450</td>\n",
       "      <td>8.0500</td>\n",
       "      <td>NaN</td>\n",
       "      <td>S</td>\n",
       "    </tr>\n",
       "  </tbody>\n",
       "</table>\n",
       "</div>"
      ],
      "text/plain": [
       "   PassengerId  Survived  Pclass  \\\n",
       "0            1         0       3   \n",
       "1            2         1       1   \n",
       "2            3         1       3   \n",
       "3            4         1       1   \n",
       "4            5         0       3   \n",
       "\n",
       "                                                Name     Sex   Age  SibSp  \\\n",
       "0                            Braund, Mr. Owen Harris    male  22.0      1   \n",
       "1  Cumings, Mrs. John Bradley (Florence Briggs Th...  female  38.0      1   \n",
       "2                             Heikkinen, Miss. Laina  female  26.0      0   \n",
       "3       Futrelle, Mrs. Jacques Heath (Lily May Peel)  female  35.0      1   \n",
       "4                           Allen, Mr. William Henry    male  35.0      0   \n",
       "\n",
       "   Parch            Ticket     Fare Cabin Embarked  \n",
       "0      0         A/5 21171   7.2500   NaN        S  \n",
       "1      0          PC 17599  71.2833   C85        C  \n",
       "2      0  STON/O2. 3101282   7.9250   NaN        S  \n",
       "3      0            113803  53.1000  C123        S  \n",
       "4      0            373450   8.0500   NaN        S  "
      ]
     },
     "execution_count": 30,
     "metadata": {},
     "output_type": "execute_result"
    }
   ],
   "source": [
    "df = pd.read_csv('train.csv')\n",
    "df.head()"
   ]
  },
  {
   "cell_type": "code",
   "execution_count": 31,
   "id": "d36b98b3",
   "metadata": {},
   "outputs": [
    {
     "data": {
      "text/plain": [
       "<Axes: xlabel='Survived', ylabel='count'>"
      ]
     },
     "execution_count": 31,
     "metadata": {},
     "output_type": "execute_result"
    },
    {
     "data": {
      "image/png": "[encoded data removed]",
      "text/plain": [
       "<Figure size 640x480 with 1 Axes>"
      ]
     },
     "metadata": {},
     "output_type": "display_data"
    }
   ],
   "source": [
    "sns.countplot(data=df, x='Survived')"
   ]
  },
  {
   "cell_type": "code",
   "execution_count": 32,
   "id": "848c1d12",
   "metadata": {
    "scrolled": true
   },
   "outputs": [
    {
     "data": {
      "text/html": [
       "<div>\n",
       "<style scoped>\n",
       "    .dataframe tbody tr th:only-of-type {\n",
       "        vertical-align: middle;\n",
       "    }\n",
       "\n",
       "    .dataframe tbody tr th {\n",
       "        vertical-align: top;\n",
       "    }\n",
       "\n",
       "    .dataframe thead th {\n",
       "        text-align: right;\n",
       "    }\n",
       "</style>\n",
       "<table border=\"1\" class=\"dataframe\">\n",
       "  <thead>\n",
       "    <tr style=\"text-align: right;\">\n",
       "      <th></th>\n",
       "      <th>Survived</th>\n",
       "      <th>Pclass</th>\n",
       "      <th>Sex</th>\n",
       "      <th>SibSp</th>\n",
       "      <th>Parch</th>\n",
       "      <th>Embarked</th>\n",
       "    </tr>\n",
       "  </thead>\n",
       "  <tbody>\n",
       "    <tr>\n",
       "      <th>0</th>\n",
       "      <td>0</td>\n",
       "      <td>3</td>\n",
       "      <td>male</td>\n",
       "      <td>1</td>\n",
       "      <td>0</td>\n",
       "      <td>S</td>\n",
       "    </tr>\n",
       "    <tr>\n",
       "      <th>1</th>\n",
       "      <td>1</td>\n",
       "      <td>1</td>\n",
       "      <td>female</td>\n",
       "      <td>1</td>\n",
       "      <td>0</td>\n",
       "      <td>C</td>\n",
       "    </tr>\n",
       "    <tr>\n",
       "      <th>2</th>\n",
       "      <td>1</td>\n",
       "      <td>3</td>\n",
       "      <td>female</td>\n",
       "      <td>0</td>\n",
       "      <td>0</td>\n",
       "      <td>S</td>\n",
       "    </tr>\n",
       "    <tr>\n",
       "      <th>3</th>\n",
       "      <td>1</td>\n",
       "      <td>1</td>\n",
       "      <td>female</td>\n",
       "      <td>1</td>\n",
       "      <td>0</td>\n",
       "      <td>S</td>\n",
       "    </tr>\n",
       "    <tr>\n",
       "      <th>4</th>\n",
       "      <td>0</td>\n",
       "      <td>3</td>\n",
       "      <td>male</td>\n",
       "      <td>0</td>\n",
       "      <td>0</td>\n",
       "      <td>S</td>\n",
       "    </tr>\n",
       "  </tbody>\n",
       "</table>\n",
       "</div>"
      ],
      "text/plain": [
       "   Survived  Pclass     Sex  SibSp  Parch Embarked\n",
       "0         0       3    male      1      0        S\n",
       "1         1       1  female      1      0        C\n",
       "2         1       3  female      0      0        S\n",
       "3         1       1  female      1      0        S\n",
       "4         0       3    male      0      0        S"
      ]
     },
     "execution_count": 32,
     "metadata": {},
     "output_type": "execute_result"
    }
   ],
   "source": [
    "#categorical data\n",
    "\n",
    "catg = df[['Survived','Pclass','Sex','SibSp','Parch','Embarked']]\n",
    "catg.head()"
   ]
  },
  {
   "cell_type": "code",
   "execution_count": 33,
   "id": "06472095",
   "metadata": {},
   "outputs": [
    {
     "data": {
      "image/png": "[encoded data removed]",
      "text/plain": [
       "<Figure size 1000x1000 with 6 Axes>"
      ]
     },
     "metadata": {},
     "output_type": "display_data"
    }
   ],
   "source": [
    "plt.figure(figsize=(10,10))\n",
    "for i,col in enumerate(catg.columns):\n",
    "    plt.subplot(3,3,i+1)\n",
    "    sns.countplot(data=df, x=col)"
   ]
  },
  {
   "cell_type": "code",
   "execution_count": 34,
   "id": "04807f66",
   "metadata": {},
   "outputs": [
    {
     "data": {
      "text/plain": [
       "<Axes: ylabel='count'>"
      ]
     },
     "execution_count": 34,
     "metadata": {},
     "output_type": "execute_result"
    },
    {
     "data": {
      "image/png": "[encoded data removed]",
      "text/plain": [
       "<Figure size 640x480 with 1 Axes>"
      ]
     },
     "metadata": {},
     "output_type": "display_data"
    }
   ],
   "source": [
    "df['Survived'].value_counts().plot(kind='pie',autopct='%.2f')"
   ]
  },
  {
   "cell_type": "code",
   "execution_count": 35,
   "id": "0ac1363e",
   "metadata": {},
   "outputs": [
    {
     "data": {
      "image/png": "[encoded data removed]",
      "text/plain": [
       "<Figure size 1000x1000 with 6 Axes>"
      ]
     },
     "metadata": {},
     "output_type": "display_data"
    }
   ],
   "source": [
    "plt.figure(figsize=(10,10))\n",
    "for i,col in enumerate(catg.columns):\n",
    "    plt.subplot(3,3,i+1)\n",
    "    df[col].value_counts().plot(kind='pie',autopct='%.2f')"
   ]
  },
  {
   "cell_type": "code",
   "execution_count": 36,
   "id": "dff856fc",
   "metadata": {},
   "outputs": [
    {
     "name": "stderr",
     "output_type": "stream",
     "text": [
      "C:\\Users\\aly98\\AppData\\Local\\Temp\\ipykernel_10524\\566231272.py:2: UserWarning: \n",
      "\n",
      "`distplot` is a deprecated function and will be removed in seaborn v0.14.0.\n",
      "\n",
      "Please adapt your code to use either `displot` (a figure-level function with\n",
      "similar flexibility) or `histplot` (an axes-level function for histograms).\n",
      "\n",
      "For a guide to updating your code to use the new functions, please see\n",
      "https://gist.github.com/mwaskom/de44147ed2974457ad6372750bbe5751\n",
      "\n",
      "  sns.distplot(df.Age) #distribution plot\n",
      "C:\\Users\\aly98\\anaconda3\\Lib\\site-packages\\seaborn\\_oldcore.py:1119: FutureWarning: use_inf_as_na option is deprecated and will be removed in a future version. Convert inf values to NaN before operating instead.\n",
      "  with pd.option_context('mode.use_inf_as_na', True):\n"
     ]
    },
    {
     "data": {
      "text/plain": [
       "<Axes: xlabel='Age', ylabel='Density'>"
      ]
     },
     "execution_count": 36,
     "metadata": {},
     "output_type": "execute_result"
    },
    {
     "data": {
      "image/png": "[encoded data removed]",
      "text/plain": [
       "<Figure size 640x480 with 1 Axes>"
      ]
     },
     "metadata": {},
     "output_type": "display_data"
    }
   ],
   "source": [
    "# univarite analysis with numerical\n",
    "sns.distplot(df.Age) #distribution plot"
   ]
  },
  {
   "cell_type": "code",
   "execution_count": 37,
   "id": "4bf8bfdb",
   "metadata": {},
   "outputs": [
    {
     "name": "stderr",
     "output_type": "stream",
     "text": [
      "C:\\Users\\aly98\\AppData\\Local\\Temp\\ipykernel_10524\\2172496163.py:1: UserWarning: \n",
      "\n",
      "`distplot` is a deprecated function and will be removed in seaborn v0.14.0.\n",
      "\n",
      "Please adapt your code to use either `displot` (a figure-level function with\n",
      "similar flexibility) or `kdeplot` (an axes-level function for kernel density plots).\n",
      "\n",
      "For a guide to updating your code to use the new functions, please see\n",
      "https://gist.github.com/mwaskom/de44147ed2974457ad6372750bbe5751\n",
      "\n",
      "  sns.distplot(df['Age'][df['Survived']==1],hist=False)\n",
      "C:\\Users\\aly98\\anaconda3\\Lib\\site-packages\\seaborn\\_oldcore.py:1119: FutureWarning: use_inf_as_na option is deprecated and will be removed in a future version. Convert inf values to NaN before operating instead.\n",
      "  with pd.option_context('mode.use_inf_as_na', True):\n",
      "C:\\Users\\aly98\\AppData\\Local\\Temp\\ipykernel_10524\\2172496163.py:2: UserWarning: \n",
      "\n",
      "`distplot` is a deprecated function and will be removed in seaborn v0.14.0.\n",
      "\n",
      "Please adapt your code to use either `displot` (a figure-level function with\n",
      "similar flexibility) or `kdeplot` (an axes-level function for kernel density plots).\n",
      "\n",
      "For a guide to updating your code to use the new functions, please see\n",
      "https://gist.github.com/mwaskom/de44147ed2974457ad6372750bbe5751\n",
      "\n",
      "  sns.distplot(df['Age'][df['Survived']==0],hist=False)\n",
      "C:\\Users\\aly98\\anaconda3\\Lib\\site-packages\\seaborn\\_oldcore.py:1119: FutureWarning: use_inf_as_na option is deprecated and will be removed in a future version. Convert inf values to NaN before operating instead.\n",
      "  with pd.option_context('mode.use_inf_as_na', True):\n"
     ]
    },
    {
     "data": {
      "text/plain": [
       "<Axes: xlabel='Age', ylabel='Density'>"
      ]
     },
     "execution_count": 37,
     "metadata": {},
     "output_type": "execute_result"
    },
    {
     "data": {
      "image/png": "[encoded data removed]",
      "text/plain": [
       "<Figure size 640x480 with 1 Axes>"
      ]
     },
     "metadata": {},
     "output_type": "display_data"
    }
   ],
   "source": [
    "sns.distplot(df['Age'][df['Survived']==1],hist=False)\n",
    "sns.distplot(df['Age'][df['Survived']==0],hist=False)"
   ]
  },
  {
   "cell_type": "markdown",
   "id": "6ec9e3e0",
   "metadata": {},
   "source": [
    " \n",
    "### **Bivariate Analysis**.\n",
    "\n",
    "**Bivariate analysis** involves examining the relationship between **two variables**. Whether they are both categorical, both numerical, or a mix of both, bivariate analysis helps us understand how they interact.\n",
    "\n",
    "Here are the key aspects of bivariate analysis, along with an example:\n",
    "\n",
    "1. **Categorical vs. Categorical**:\n",
    "\n",
    "   - When both variables are categorical (nominal or ordinal), we analyze their association.\n",
    "   - Common techniques include:\n",
    "     - **Contingency Tables (Cross-Tabulation)**: Shows the frequency distribution of both variables.\n",
    "     - **Chi-Square Test**: Determines if there's a significant association between the variables.\n",
    "     - **Bar Charts or Stacked Bar Charts**: Visualize the relationship.\n",
    "     - **Countplot**: Frequency of one variable based on other variable\n",
    "\n",
    "   **Example**:\n",
    "   Suppose we have data on **Gender** (Male/Female) and **Smoking Status** (Smoker/Non-Smoker). We create a contingency table:\n",
    "\n",
    "   |          | Smoker | Non-Smoker |\n",
    "   |----------|--------|------------|\n",
    "   | Male     | 120    | 80         |\n",
    "   | Female   | 60     | 140        |\n",
    "\n",
    "   From this table, we can observe that smoking status appears to be associated with gender.   \n",
    "   now we can make a graph to present our insight visually.\n",
    "     \n",
    "\n",
    "2. **Numerical vs. Numerical**:\n",
    "\n",
    "   - When both variables are numerical (continuous or discrete), we explore their correlation.\n",
    "   - Common techniques include:\n",
    "     - **Scatter Plots**: Visualize the relationship between two numerical variables.\n",
    "     - **Heatmap plot**: with graph correlation between two variable\n",
    "     - **Correlation Coefficient (Pearson's r)**: Measures the strength and direction of linear association.\n",
    "     - **Regression Analysis**: Predict one variable based on the other.\n",
    "\n",
    "   **Example**:\n",
    "   Let's consider **Height** (in inches) and **Weight** (in pounds). A scatter plot can shows their relationship:\n",
    "\n",
    "3. **Numerical vs. Categorical**:\n",
    "   - When one variable is numerical and the other is categorical, we compare their distributions.\n",
    "   - Techniques include:\n",
    "     - **Boxplots or Violin Plots**: Show the spread of numerical values for each category.\n",
    "     - **ANOVA (Analysis of Variance)**: Tests if means of numerical variables differ across categories.\n",
    "4.\n",
    "   **Example**:\n",
    "   Suppose we have data on **Income** (numerical) and **Education Level** (categorical: High School, Bachelor's, Master's). We can create boxplots to compare income distributions across education levels.\n",
    "  "
   ]
  },
  {
   "cell_type": "code",
   "execution_count": 38,
   "id": "faef2924",
   "metadata": {
    "scrolled": true
   },
   "outputs": [
    {
     "data": {
      "text/html": [
       "<div>\n",
       "<style scoped>\n",
       "    .dataframe tbody tr th:only-of-type {\n",
       "        vertical-align: middle;\n",
       "    }\n",
       "\n",
       "    .dataframe tbody tr th {\n",
       "        vertical-align: top;\n",
       "    }\n",
       "\n",
       "    .dataframe thead th {\n",
       "        text-align: right;\n",
       "    }\n",
       "</style>\n",
       "<table border=\"1\" class=\"dataframe\">\n",
       "  <thead>\n",
       "    <tr style=\"text-align: right;\">\n",
       "      <th></th>\n",
       "      <th>PassengerId</th>\n",
       "      <th>Survived</th>\n",
       "      <th>Pclass</th>\n",
       "      <th>Name</th>\n",
       "      <th>Sex</th>\n",
       "      <th>Age</th>\n",
       "      <th>SibSp</th>\n",
       "      <th>Parch</th>\n",
       "      <th>Ticket</th>\n",
       "      <th>Fare</th>\n",
       "      <th>Cabin</th>\n",
       "      <th>Embarked</th>\n",
       "    </tr>\n",
       "  </thead>\n",
       "  <tbody>\n",
       "    <tr>\n",
       "      <th>0</th>\n",
       "      <td>1</td>\n",
       "      <td>0</td>\n",
       "      <td>3</td>\n",
       "      <td>Braund, Mr. Owen Harris</td>\n",
       "      <td>male</td>\n",
       "      <td>22.0</td>\n",
       "      <td>1</td>\n",
       "      <td>0</td>\n",
       "      <td>A/5 21171</td>\n",
       "      <td>7.2500</td>\n",
       "      <td>NaN</td>\n",
       "      <td>S</td>\n",
       "    </tr>\n",
       "    <tr>\n",
       "      <th>1</th>\n",
       "      <td>2</td>\n",
       "      <td>1</td>\n",
       "      <td>1</td>\n",
       "      <td>Cumings, Mrs. John Bradley (Florence Briggs Th...</td>\n",
       "      <td>female</td>\n",
       "      <td>38.0</td>\n",
       "      <td>1</td>\n",
       "      <td>0</td>\n",
       "      <td>PC 17599</td>\n",
       "      <td>71.2833</td>\n",
       "      <td>C85</td>\n",
       "      <td>C</td>\n",
       "    </tr>\n",
       "    <tr>\n",
       "      <th>2</th>\n",
       "      <td>3</td>\n",
       "      <td>1</td>\n",
       "      <td>3</td>\n",
       "      <td>Heikkinen, Miss. Laina</td>\n",
       "      <td>female</td>\n",
       "      <td>26.0</td>\n",
       "      <td>0</td>\n",
       "      <td>0</td>\n",
       "      <td>STON/O2. 3101282</td>\n",
       "      <td>7.9250</td>\n",
       "      <td>NaN</td>\n",
       "      <td>S</td>\n",
       "    </tr>\n",
       "    <tr>\n",
       "      <th>3</th>\n",
       "      <td>4</td>\n",
       "      <td>1</td>\n",
       "      <td>1</td>\n",
       "      <td>Futrelle, Mrs. Jacques Heath (Lily May Peel)</td>\n",
       "      <td>female</td>\n",
       "      <td>35.0</td>\n",
       "      <td>1</td>\n",
       "      <td>0</td>\n",
       "      <td>113803</td>\n",
       "      <td>53.1000</td>\n",
       "      <td>C123</td>\n",
       "      <td>S</td>\n",
       "    </tr>\n",
       "    <tr>\n",
       "      <th>4</th>\n",
       "      <td>5</td>\n",
       "      <td>0</td>\n",
       "      <td>3</td>\n",
       "      <td>Allen, Mr. William Henry</td>\n",
       "      <td>male</td>\n",
       "      <td>35.0</td>\n",
       "      <td>0</td>\n",
       "      <td>0</td>\n",
       "      <td>373450</td>\n",
       "      <td>8.0500</td>\n",
       "      <td>NaN</td>\n",
       "      <td>S</td>\n",
       "    </tr>\n",
       "  </tbody>\n",
       "</table>\n",
       "</div>"
      ],
      "text/plain": [
       "   PassengerId  Survived  Pclass  \\\n",
       "0            1         0       3   \n",
       "1            2         1       1   \n",
       "2            3         1       3   \n",
       "3            4         1       1   \n",
       "4            5         0       3   \n",
       "\n",
       "                                                Name     Sex   Age  SibSp  \\\n",
       "0                            Braund, Mr. Owen Harris    male  22.0      1   \n",
       "1  Cumings, Mrs. John Bradley (Florence Briggs Th...  female  38.0      1   \n",
       "2                             Heikkinen, Miss. Laina  female  26.0      0   \n",
       "3       Futrelle, Mrs. Jacques Heath (Lily May Peel)  female  35.0      1   \n",
       "4                           Allen, Mr. William Henry    male  35.0      0   \n",
       "\n",
       "   Parch            Ticket     Fare Cabin Embarked  \n",
       "0      0         A/5 21171   7.2500   NaN        S  \n",
       "1      0          PC 17599  71.2833   C85        C  \n",
       "2      0  STON/O2. 3101282   7.9250   NaN        S  \n",
       "3      0            113803  53.1000  C123        S  \n",
       "4      0            373450   8.0500   NaN        S  "
      ]
     },
     "execution_count": 38,
     "metadata": {},
     "output_type": "execute_result"
    }
   ],
   "source": [
    "df.head()"
   ]
  },
  {
   "cell_type": "code",
   "execution_count": 39,
   "id": "d6290fb8",
   "metadata": {},
   "outputs": [
    {
     "data": {
      "text/plain": [
       "<Axes: xlabel='Sex', ylabel='Survived'>"
      ]
     },
     "execution_count": 39,
     "metadata": {},
     "output_type": "execute_result"
    },
    {
     "data": {
      "image/png": "[encoded data removed]",
      "text/plain": [
       "<Figure size 640x480 with 1 Axes>"
      ]
     },
     "metadata": {},
     "output_type": "display_data"
    }
   ],
   "source": [
    "#Categorical - Categorical\n",
    "\n",
    "sns.barplot(data=df,x='Sex',y='Survived') # average of male and female survived"
   ]
  },
  {
   "cell_type": "code",
   "execution_count": 40,
   "id": "fe64a4ae",
   "metadata": {},
   "outputs": [
    {
     "data": {
      "text/plain": [
       "<Axes: xlabel='Pclass', ylabel='Age'>"
      ]
     },
     "execution_count": 40,
     "metadata": {},
     "output_type": "execute_result"
    },
    {
     "data": {
      "image/png": "[encoded data removed]",
      "text/plain": [
       "<Figure size 640x480 with 1 Axes>"
      ]
     },
     "metadata": {},
     "output_type": "display_data"
    }
   ],
   "source": [
    "#categorical and numerical\n",
    "sns.barplot(data=df,x='Pclass',y='Age',hue='Sex')  # female and male average ages in each class"
   ]
  },
  {
   "cell_type": "code",
   "execution_count": 41,
   "id": "3ed4275c",
   "metadata": {
    "scrolled": true
   },
   "outputs": [
    {
     "data": {
      "text/html": [
       "<div>\n",
       "<style scoped>\n",
       "    .dataframe tbody tr th:only-of-type {\n",
       "        vertical-align: middle;\n",
       "    }\n",
       "\n",
       "    .dataframe tbody tr th {\n",
       "        vertical-align: top;\n",
       "    }\n",
       "\n",
       "    .dataframe thead th {\n",
       "        text-align: right;\n",
       "    }\n",
       "</style>\n",
       "<table border=\"1\" class=\"dataframe\">\n",
       "  <thead>\n",
       "    <tr style=\"text-align: right;\">\n",
       "      <th>Survived</th>\n",
       "      <th>0</th>\n",
       "      <th>1</th>\n",
       "    </tr>\n",
       "    <tr>\n",
       "      <th>Pclass</th>\n",
       "      <th></th>\n",
       "      <th></th>\n",
       "    </tr>\n",
       "  </thead>\n",
       "  <tbody>\n",
       "    <tr>\n",
       "      <th>1</th>\n",
       "      <td>80</td>\n",
       "      <td>136</td>\n",
       "    </tr>\n",
       "    <tr>\n",
       "      <th>2</th>\n",
       "      <td>97</td>\n",
       "      <td>87</td>\n",
       "    </tr>\n",
       "    <tr>\n",
       "      <th>3</th>\n",
       "      <td>372</td>\n",
       "      <td>119</td>\n",
       "    </tr>\n",
       "  </tbody>\n",
       "</table>\n",
       "</div>"
      ],
      "text/plain": [
       "Survived    0    1\n",
       "Pclass            \n",
       "1          80  136\n",
       "2          97   87\n",
       "3         372  119"
      ]
     },
     "execution_count": 41,
     "metadata": {},
     "output_type": "execute_result"
    }
   ],
   "source": [
    "pd.crosstab(df.Pclass,df.Survived) #contingency table"
   ]
  },
  {
   "cell_type": "code",
   "execution_count": 42,
   "id": "ddc9ff86",
   "metadata": {
    "scrolled": true
   },
   "outputs": [
    {
     "data": {
      "text/html": [
       "<div>\n",
       "<style scoped>\n",
       "    .dataframe tbody tr th:only-of-type {\n",
       "        vertical-align: middle;\n",
       "    }\n",
       "\n",
       "    .dataframe tbody tr th {\n",
       "        vertical-align: top;\n",
       "    }\n",
       "\n",
       "    .dataframe thead th {\n",
       "        text-align: right;\n",
       "    }\n",
       "</style>\n",
       "<table border=\"1\" class=\"dataframe\">\n",
       "  <thead>\n",
       "    <tr style=\"text-align: right;\">\n",
       "      <th></th>\n",
       "      <th>total_bill</th>\n",
       "      <th>tip</th>\n",
       "      <th>sex</th>\n",
       "      <th>smoker</th>\n",
       "      <th>day</th>\n",
       "      <th>time</th>\n",
       "      <th>size</th>\n",
       "    </tr>\n",
       "  </thead>\n",
       "  <tbody>\n",
       "    <tr>\n",
       "      <th>0</th>\n",
       "      <td>16.99</td>\n",
       "      <td>1.01</td>\n",
       "      <td>Female</td>\n",
       "      <td>No</td>\n",
       "      <td>Sun</td>\n",
       "      <td>Dinner</td>\n",
       "      <td>2</td>\n",
       "    </tr>\n",
       "    <tr>\n",
       "      <th>1</th>\n",
       "      <td>10.34</td>\n",
       "      <td>1.66</td>\n",
       "      <td>Male</td>\n",
       "      <td>No</td>\n",
       "      <td>Sun</td>\n",
       "      <td>Dinner</td>\n",
       "      <td>3</td>\n",
       "    </tr>\n",
       "    <tr>\n",
       "      <th>2</th>\n",
       "      <td>21.01</td>\n",
       "      <td>3.50</td>\n",
       "      <td>Male</td>\n",
       "      <td>No</td>\n",
       "      <td>Sun</td>\n",
       "      <td>Dinner</td>\n",
       "      <td>3</td>\n",
       "    </tr>\n",
       "    <tr>\n",
       "      <th>3</th>\n",
       "      <td>23.68</td>\n",
       "      <td>3.31</td>\n",
       "      <td>Male</td>\n",
       "      <td>No</td>\n",
       "      <td>Sun</td>\n",
       "      <td>Dinner</td>\n",
       "      <td>2</td>\n",
       "    </tr>\n",
       "    <tr>\n",
       "      <th>4</th>\n",
       "      <td>24.59</td>\n",
       "      <td>3.61</td>\n",
       "      <td>Female</td>\n",
       "      <td>No</td>\n",
       "      <td>Sun</td>\n",
       "      <td>Dinner</td>\n",
       "      <td>4</td>\n",
       "    </tr>\n",
       "  </tbody>\n",
       "</table>\n",
       "</div>"
      ],
      "text/plain": [
       "   total_bill   tip     sex smoker  day    time  size\n",
       "0       16.99  1.01  Female     No  Sun  Dinner     2\n",
       "1       10.34  1.66    Male     No  Sun  Dinner     3\n",
       "2       21.01  3.50    Male     No  Sun  Dinner     3\n",
       "3       23.68  3.31    Male     No  Sun  Dinner     2\n",
       "4       24.59  3.61  Female     No  Sun  Dinner     4"
      ]
     },
     "execution_count": 42,
     "metadata": {},
     "output_type": "execute_result"
    }
   ],
   "source": [
    "#numerical vs numerical\n",
    "tips = sns.load_dataset('tips')\n",
    "tips.head()"
   ]
  },
  {
   "cell_type": "code",
   "execution_count": 43,
   "id": "123b511f",
   "metadata": {},
   "outputs": [
    {
     "data": {
      "text/plain": [
       "<Axes: xlabel='total_bill', ylabel='tip'>"
      ]
     },
     "execution_count": 43,
     "metadata": {},
     "output_type": "execute_result"
    },
    {
     "data": {
      "image/png": "[encoded data removed]",
      "text/plain": [
       "<Figure size 640x480 with 1 Axes>"
      ]
     },
     "metadata": {},
     "output_type": "display_data"
    }
   ],
   "source": [
    "sns.scatterplot(data=tips,x='total_bill',y='tip', hue='sex')"
   ]
  },
  {
   "cell_type": "markdown",
   "id": "96b8f690",
   "metadata": {},
   "source": [
    "1. As total_bill increases, tips also increase and higher tips given by male.\n",
    "2. lets put multiple features on the plot"
   ]
  },
  {
   "cell_type": "code",
   "execution_count": 44,
   "id": "68f56e3c",
   "metadata": {},
   "outputs": [
    {
     "data": {
      "text/plain": [
       "<Axes: xlabel='total_bill', ylabel='tip'>"
      ]
     },
     "execution_count": 44,
     "metadata": {},
     "output_type": "execute_result"
    },
    {
     "data": {
      "image/png": "[encoded data removed]",
      "text/plain": [
       "<Figure size 640x480 with 1 Axes>"
      ]
     },
     "metadata": {},
     "output_type": "display_data"
    }
   ],
   "source": [
    "sns.scatterplot(data=tips,x='total_bill',y='tip', hue='sex',style='smoker',size='size') #multivariate"
   ]
  },
  {
   "cell_type": "code",
   "execution_count": null,
   "id": "5f24902f-25ae-4288-a980-81f3c57d3437",
   "metadata": {},
   "outputs": [],
   "source": []
  },
  {
   "cell_type": "code",
   "execution_count": 45,
   "id": "580f4bd4",
   "metadata": {},
   "outputs": [
    {
     "data": {
      "text/plain": [
       "<Axes: >"
      ]
     },
     "execution_count": 45,
     "metadata": {},
     "output_type": "execute_result"
    },
    {
     "data": {
      "image/png": "[encoded data removed]",
      "text/plain": [
       "<Figure size 640x480 with 2 Axes>"
      ]
     },
     "metadata": {},
     "output_type": "display_data"
    }
   ],
   "source": [
    "sns.heatmap(tips[['total_bill','tip','size']].corr()) #heatmap --> total_bill and tip has positive correlation"
   ]
  },
  {
   "cell_type": "code",
   "execution_count": 46,
   "id": "b19edc5b",
   "metadata": {},
   "outputs": [
    {
     "data": {
      "text/html": [
       "<div>\n",
       "<style scoped>\n",
       "    .dataframe tbody tr th:only-of-type {\n",
       "        vertical-align: middle;\n",
       "    }\n",
       "\n",
       "    .dataframe tbody tr th {\n",
       "        vertical-align: top;\n",
       "    }\n",
       "\n",
       "    .dataframe thead th {\n",
       "        text-align: right;\n",
       "    }\n",
       "</style>\n",
       "<table border=\"1\" class=\"dataframe\">\n",
       "  <thead>\n",
       "    <tr style=\"text-align: right;\">\n",
       "      <th></th>\n",
       "      <th>total_bill</th>\n",
       "      <th>tip</th>\n",
       "      <th>size</th>\n",
       "    </tr>\n",
       "  </thead>\n",
       "  <tbody>\n",
       "    <tr>\n",
       "      <th>total_bill</th>\n",
       "      <td>1.000000</td>\n",
       "      <td>0.675734</td>\n",
       "      <td>0.598315</td>\n",
       "    </tr>\n",
       "    <tr>\n",
       "      <th>tip</th>\n",
       "      <td>0.675734</td>\n",
       "      <td>1.000000</td>\n",
       "      <td>0.489299</td>\n",
       "    </tr>\n",
       "    <tr>\n",
       "      <th>size</th>\n",
       "      <td>0.598315</td>\n",
       "      <td>0.489299</td>\n",
       "      <td>1.000000</td>\n",
       "    </tr>\n",
       "  </tbody>\n",
       "</table>\n",
       "</div>"
      ],
      "text/plain": [
       "            total_bill       tip      size\n",
       "total_bill    1.000000  0.675734  0.598315\n",
       "tip           0.675734  1.000000  0.489299\n",
       "size          0.598315  0.489299  1.000000"
      ]
     },
     "execution_count": 46,
     "metadata": {},
     "output_type": "execute_result"
    }
   ],
   "source": [
    "tips[['total_bill','tip','size']].corr()"
   ]
  },
  {
   "cell_type": "code",
   "execution_count": 47,
   "id": "00ebcae5",
   "metadata": {},
   "outputs": [
    {
     "data": {
      "text/plain": [
       "<Axes: xlabel='Sex', ylabel='Age'>"
      ]
     },
     "execution_count": 47,
     "metadata": {},
     "output_type": "execute_result"
    },
    {
     "data": {
      "image/png": "[encoded data removed]",
      "text/plain": [
       "<Figure size 640x480 with 1 Axes>"
      ]
     },
     "metadata": {},
     "output_type": "display_data"
    }
   ],
   "source": [
    "sns.boxplot(df,x='Sex',y='Age',hue='Survived')"
   ]
  },
  {
   "cell_type": "markdown",
   "id": "26b9a332",
   "metadata": {},
   "source": [
    " \n",
    "### Multivariate analysis\n",
    "\n",
    "**Multivariate analysis** (MVA) goes beyond bivariate analysis by considering **more than two variables** simultaneously. It's a powerful technique for understanding complex relationships and patterns within data. Here are the key points about multivariate analysis:"
   ]
  },
  {
   "cell_type": "code",
   "execution_count": 48,
   "id": "d13d8e62",
   "metadata": {},
   "outputs": [
    {
     "data": {
      "text/plain": [
       "<Axes: xlabel='Pclass', ylabel='Age'>"
      ]
     },
     "execution_count": 48,
     "metadata": {},
     "output_type": "execute_result"
    },
    {
     "data": {
      "image/png": "[encoded data removed]",
      "text/plain": [
       "<Figure size 640x480 with 1 Axes>"
      ]
     },
     "metadata": {},
     "output_type": "display_data"
    }
   ],
   "source": [
    "df['Survived'] = df['Survived'].astype(str)\n",
    "sns.barplot(data=df, x='Pclass', y='Age', hue='Survived')"
   ]
  },
  {
   "cell_type": "code",
   "execution_count": 49,
   "id": "a4575307",
   "metadata": {},
   "outputs": [
    {
     "data": {
      "text/plain": [
       "<Axes: xlabel='total_bill', ylabel='tip'>"
      ]
     },
     "execution_count": 49,
     "metadata": {},
     "output_type": "execute_result"
    },
    {
     "data": {
      "image/png": "[encoded data removed]",
      "text/plain": [
       "<Figure size 640x480 with 1 Axes>"
      ]
     },
     "metadata": {},
     "output_type": "display_data"
    }
   ],
   "source": [
    "sns.scatterplot(data=tips,x='total_bill',y='tip', hue='sex',style='smoker',size='size') #multivariate"
   ]
  },
  {
   "cell_type": "markdown",
   "id": "66262966",
   "metadata": {},
   "source": [
    "### Numerical Analysis.\n",
    "\n",
    "**Numerical analysis** is a field that focuses on using **numerical approximation** methods to solve mathematical problems. Unlike symbolic manipulations, which deal with exact solutions, numerical analysis aims to find **approximate solutions** to complex problems. Here are the key points about numerical analysis:\n",
    "\n",
    "\n",
    "1. **Single Numerical Variable**:\n",
    "   - When dealing with a single numerical variable, we often want to know its statistical properties:\n",
    "     - **Mean (Average)**: Sum of values divided by the number of observations.\n",
    "     - **Median**: Middle value when data is sorted.\n",
    "     - **Percentiles**: Values below which a given percentage of data falls (e.g., 25th percentile, 75th percentile).\n",
    "     - **Minimum** and **Maximum**: Lowest and highest values in the dataset.\n",
    "\n",
    "   **Example**:  \n",
    "   Suppose we have data on **monthly income** for a group of individuals. We calculate\n",
    "   - Mean income: $5,000\\\n",
    "   - Median income: $4,200\\\n",
    "   - 25th percentile (Q1): $3,000\\\n",
    "   - 75th percentile (Q3): $6,500\n",
    "\n",
    "2. **Multiple Features and Correlation**:\n",
    "   - When analyzing multiple features (variables), we explore their relationships:\n",
    "     - **Correlation**: Measures the strength and direction of association between two numerical variables.\n",
    "     - Techniques include scatter plots, correlation coefficients (e.g., Pearson's r), and regression analysis.\n",
    "\n",
    "   **Example**:\n",
    "   Let's consider **temperature** and **ice cream sales**. If they are positively correlated (warmer days lead to higher sales), we can explore this relationship further.\n",
    "\n",
    "3. **Error and Approximation**:\n",
    "   - Numerical methods involve approximations due to limitations in precision and computational resources.\n",
    "   - Errors can accumulate during calculations, affecting the accuracy of results.\n",
    "   - Concepts like absolute error and relative error help quantify approximation quality.\n",
    "\n",
    "   **Example**:\n",
    "   If we approximate the square root of 2 as **1.4142**, the absolute error is **0.00007** (compared to the true value)"
   ]
  },
  {
   "cell_type": "markdown",
   "id": "0278dfa4",
   "metadata": {},
   "source": [
    "# Derived Metrics\n",
    "\n",
    "Derived metrics involve creating new variables from existing ones to extract insightful information by analyzing the data. Here are the key types of derived metrics:\n",
    "\n",
    "1. **Feature Encoding**:\n",
    "   - Convert categorical data or text data into a format easily understood by machine learning algorithms.\n",
    "   - Techniques: One-Hot Encoding, Label Encoding, Target Encoding, Hash Encoding.\n",
    "   \n",
    "    **Label encoding :**  \n",
    "     Label encoding is technique to transform categorical variables into numerical variables by assigning a numerical value to each of the categories.\n",
    "\n",
    "    **One-Hot encoding:**  \n",
    "     This technique is used when independent variables are nominal. It creates k different columns each for a category and replaces one column with 1 rest of the columns is 0 (dummy variable).  \n",
    "    Here, 0 represents the absence, and 1 represents the presence of that category.\n",
    "    \n",
    "    "
   ]
  },
  {
   "cell_type": "code",
   "execution_count": 50,
   "id": "e840c1cf",
   "metadata": {},
   "outputs": [],
   "source": [
    "import pandas as pd\n",
    "import numpy as np\n",
    "from sklearn import preprocessing "
   ]
  },
  {
   "cell_type": "code",
   "execution_count": 51,
   "id": "7454aa27",
   "metadata": {
    "scrolled": true
   },
   "outputs": [
    {
     "data": {
      "text/html": [
       "<div>\n",
       "<style scoped>\n",
       "    .dataframe tbody tr th:only-of-type {\n",
       "        vertical-align: middle;\n",
       "    }\n",
       "\n",
       "    .dataframe tbody tr th {\n",
       "        vertical-align: top;\n",
       "    }\n",
       "\n",
       "    .dataframe thead th {\n",
       "        text-align: right;\n",
       "    }\n",
       "</style>\n",
       "<table border=\"1\" class=\"dataframe\">\n",
       "  <thead>\n",
       "    <tr style=\"text-align: right;\">\n",
       "      <th></th>\n",
       "      <th>RowNumber</th>\n",
       "      <th>CustomerId</th>\n",
       "      <th>Surname</th>\n",
       "      <th>CreditScore</th>\n",
       "      <th>Geography</th>\n",
       "      <th>Gender</th>\n",
       "      <th>Age</th>\n",
       "      <th>Tenure</th>\n",
       "      <th>Balance</th>\n",
       "      <th>NumOfProducts</th>\n",
       "      <th>HasCrCard</th>\n",
       "      <th>IsActiveMember</th>\n",
       "      <th>EstimatedSalary</th>\n",
       "      <th>Exited</th>\n",
       "    </tr>\n",
       "  </thead>\n",
       "  <tbody>\n",
       "    <tr>\n",
       "      <th>0</th>\n",
       "      <td>1</td>\n",
       "      <td>15634602</td>\n",
       "      <td>Hargrave</td>\n",
       "      <td>619</td>\n",
       "      <td>France</td>\n",
       "      <td>Female</td>\n",
       "      <td>42</td>\n",
       "      <td>2</td>\n",
       "      <td>0.00</td>\n",
       "      <td>1</td>\n",
       "      <td>1</td>\n",
       "      <td>1</td>\n",
       "      <td>101348.88</td>\n",
       "      <td>1</td>\n",
       "    </tr>\n",
       "    <tr>\n",
       "      <th>1</th>\n",
       "      <td>2</td>\n",
       "      <td>15647311</td>\n",
       "      <td>Hill</td>\n",
       "      <td>608</td>\n",
       "      <td>Spain</td>\n",
       "      <td>Female</td>\n",
       "      <td>41</td>\n",
       "      <td>1</td>\n",
       "      <td>83807.86</td>\n",
       "      <td>1</td>\n",
       "      <td>0</td>\n",
       "      <td>1</td>\n",
       "      <td>112542.58</td>\n",
       "      <td>0</td>\n",
       "    </tr>\n",
       "    <tr>\n",
       "      <th>2</th>\n",
       "      <td>3</td>\n",
       "      <td>15619304</td>\n",
       "      <td>Onio</td>\n",
       "      <td>502</td>\n",
       "      <td>France</td>\n",
       "      <td>Female</td>\n",
       "      <td>42</td>\n",
       "      <td>8</td>\n",
       "      <td>159660.80</td>\n",
       "      <td>3</td>\n",
       "      <td>1</td>\n",
       "      <td>0</td>\n",
       "      <td>113931.57</td>\n",
       "      <td>1</td>\n",
       "    </tr>\n",
       "    <tr>\n",
       "      <th>3</th>\n",
       "      <td>4</td>\n",
       "      <td>15701354</td>\n",
       "      <td>Boni</td>\n",
       "      <td>699</td>\n",
       "      <td>France</td>\n",
       "      <td>Female</td>\n",
       "      <td>39</td>\n",
       "      <td>1</td>\n",
       "      <td>0.00</td>\n",
       "      <td>2</td>\n",
       "      <td>0</td>\n",
       "      <td>0</td>\n",
       "      <td>93826.63</td>\n",
       "      <td>0</td>\n",
       "    </tr>\n",
       "    <tr>\n",
       "      <th>4</th>\n",
       "      <td>5</td>\n",
       "      <td>15737888</td>\n",
       "      <td>Mitchell</td>\n",
       "      <td>850</td>\n",
       "      <td>Spain</td>\n",
       "      <td>Female</td>\n",
       "      <td>43</td>\n",
       "      <td>2</td>\n",
       "      <td>125510.82</td>\n",
       "      <td>1</td>\n",
       "      <td>1</td>\n",
       "      <td>1</td>\n",
       "      <td>79084.10</td>\n",
       "      <td>0</td>\n",
       "    </tr>\n",
       "  </tbody>\n",
       "</table>\n",
       "</div>"
      ],
      "text/plain": [
       "   RowNumber  CustomerId   Surname  CreditScore Geography  Gender  Age  \\\n",
       "0          1    15634602  Hargrave          619    France  Female   42   \n",
       "1          2    15647311      Hill          608     Spain  Female   41   \n",
       "2          3    15619304      Onio          502    France  Female   42   \n",
       "3          4    15701354      Boni          699    France  Female   39   \n",
       "4          5    15737888  Mitchell          850     Spain  Female   43   \n",
       "\n",
       "   Tenure    Balance  NumOfProducts  HasCrCard  IsActiveMember  \\\n",
       "0       2       0.00              1          1               1   \n",
       "1       1   83807.86              1          0               1   \n",
       "2       8  159660.80              3          1               0   \n",
       "3       1       0.00              2          0               0   \n",
       "4       2  125510.82              1          1               1   \n",
       "\n",
       "   EstimatedSalary  Exited  \n",
       "0        101348.88       1  \n",
       "1        112542.58       0  \n",
       "2        113931.57       1  \n",
       "3         93826.63       0  \n",
       "4         79084.10       0  "
      ]
     },
     "execution_count": 51,
     "metadata": {},
     "output_type": "execute_result"
    }
   ],
   "source": [
    "df = pd.read_csv(\"Churn_Modelling.csv\")\n",
    "df.head()"
   ]
  },
  {
   "cell_type": "code",
   "execution_count": 52,
   "id": "fc43cc04",
   "metadata": {},
   "outputs": [],
   "source": [
    "df.drop(['RowNumber','CustomerId','Surname'],axis=1, inplace=True)"
   ]
  },
  {
   "cell_type": "code",
   "execution_count": 53,
   "id": "96cb6c6f",
   "metadata": {
    "scrolled": true
   },
   "outputs": [
    {
     "data": {
      "text/plain": [
       "Gender\n",
       "Male      5457\n",
       "Female    4543\n",
       "Name: count, dtype: int64"
      ]
     },
     "execution_count": 53,
     "metadata": {},
     "output_type": "execute_result"
    }
   ],
   "source": [
    "df.Gender.value_counts()"
   ]
  },
  {
   "cell_type": "code",
   "execution_count": 54,
   "id": "433ede74",
   "metadata": {
    "scrolled": true
   },
   "outputs": [
    {
     "data": {
      "text/html": [
       "<div>\n",
       "<style scoped>\n",
       "    .dataframe tbody tr th:only-of-type {\n",
       "        vertical-align: middle;\n",
       "    }\n",
       "\n",
       "    .dataframe tbody tr th {\n",
       "        vertical-align: top;\n",
       "    }\n",
       "\n",
       "    .dataframe thead th {\n",
       "        text-align: right;\n",
       "    }\n",
       "</style>\n",
       "<table border=\"1\" class=\"dataframe\">\n",
       "  <thead>\n",
       "    <tr style=\"text-align: right;\">\n",
       "      <th></th>\n",
       "      <th>CreditScore</th>\n",
       "      <th>Geography</th>\n",
       "      <th>Gender</th>\n",
       "      <th>Age</th>\n",
       "      <th>Tenure</th>\n",
       "      <th>Balance</th>\n",
       "      <th>NumOfProducts</th>\n",
       "      <th>HasCrCard</th>\n",
       "      <th>IsActiveMember</th>\n",
       "      <th>EstimatedSalary</th>\n",
       "      <th>Exited</th>\n",
       "      <th>Encoded_gender</th>\n",
       "    </tr>\n",
       "  </thead>\n",
       "  <tbody>\n",
       "    <tr>\n",
       "      <th>0</th>\n",
       "      <td>619</td>\n",
       "      <td>France</td>\n",
       "      <td>Female</td>\n",
       "      <td>42</td>\n",
       "      <td>2</td>\n",
       "      <td>0.00</td>\n",
       "      <td>1</td>\n",
       "      <td>1</td>\n",
       "      <td>1</td>\n",
       "      <td>101348.88</td>\n",
       "      <td>1</td>\n",
       "      <td>0</td>\n",
       "    </tr>\n",
       "    <tr>\n",
       "      <th>1</th>\n",
       "      <td>608</td>\n",
       "      <td>Spain</td>\n",
       "      <td>Female</td>\n",
       "      <td>41</td>\n",
       "      <td>1</td>\n",
       "      <td>83807.86</td>\n",
       "      <td>1</td>\n",
       "      <td>0</td>\n",
       "      <td>1</td>\n",
       "      <td>112542.58</td>\n",
       "      <td>0</td>\n",
       "      <td>0</td>\n",
       "    </tr>\n",
       "    <tr>\n",
       "      <th>2</th>\n",
       "      <td>502</td>\n",
       "      <td>France</td>\n",
       "      <td>Female</td>\n",
       "      <td>42</td>\n",
       "      <td>8</td>\n",
       "      <td>159660.80</td>\n",
       "      <td>3</td>\n",
       "      <td>1</td>\n",
       "      <td>0</td>\n",
       "      <td>113931.57</td>\n",
       "      <td>1</td>\n",
       "      <td>0</td>\n",
       "    </tr>\n",
       "    <tr>\n",
       "      <th>3</th>\n",
       "      <td>699</td>\n",
       "      <td>France</td>\n",
       "      <td>Female</td>\n",
       "      <td>39</td>\n",
       "      <td>1</td>\n",
       "      <td>0.00</td>\n",
       "      <td>2</td>\n",
       "      <td>0</td>\n",
       "      <td>0</td>\n",
       "      <td>93826.63</td>\n",
       "      <td>0</td>\n",
       "      <td>0</td>\n",
       "    </tr>\n",
       "    <tr>\n",
       "      <th>4</th>\n",
       "      <td>850</td>\n",
       "      <td>Spain</td>\n",
       "      <td>Female</td>\n",
       "      <td>43</td>\n",
       "      <td>2</td>\n",
       "      <td>125510.82</td>\n",
       "      <td>1</td>\n",
       "      <td>1</td>\n",
       "      <td>1</td>\n",
       "      <td>79084.10</td>\n",
       "      <td>0</td>\n",
       "      <td>0</td>\n",
       "    </tr>\n",
       "  </tbody>\n",
       "</table>\n",
       "</div>"
      ],
      "text/plain": [
       "   CreditScore Geography  Gender  Age  Tenure    Balance  NumOfProducts  \\\n",
       "0          619    France  Female   42       2       0.00              1   \n",
       "1          608     Spain  Female   41       1   83807.86              1   \n",
       "2          502    France  Female   42       8  159660.80              3   \n",
       "3          699    France  Female   39       1       0.00              2   \n",
       "4          850     Spain  Female   43       2  125510.82              1   \n",
       "\n",
       "   HasCrCard  IsActiveMember  EstimatedSalary  Exited  Encoded_gender  \n",
       "0          1               1        101348.88       1               0  \n",
       "1          0               1        112542.58       0               0  \n",
       "2          1               0        113931.57       1               0  \n",
       "3          0               0         93826.63       0               0  \n",
       "4          1               1         79084.10       0               0  "
      ]
     },
     "execution_count": 54,
     "metadata": {},
     "output_type": "execute_result"
    }
   ],
   "source": [
    "#LABEL ENCODING\n",
    "\n",
    "LE = preprocessing.LabelEncoder()\n",
    "df['Encoded_gender'] = LE.fit_transform(df.Gender)\n",
    "df.head()"
   ]
  },
  {
   "cell_type": "code",
   "execution_count": 55,
   "id": "33c5981e",
   "metadata": {},
   "outputs": [
    {
     "data": {
      "text/plain": [
       "Encoded_gender\n",
       "1    5457\n",
       "0    4543\n",
       "Name: count, dtype: int64"
      ]
     },
     "execution_count": 55,
     "metadata": {},
     "output_type": "execute_result"
    }
   ],
   "source": [
    "df.Encoded_gender.value_counts()"
   ]
  },
  {
   "cell_type": "code",
   "execution_count": 56,
   "id": "92c17677",
   "metadata": {},
   "outputs": [
    {
     "data": {
      "text/html": [
       "<div>\n",
       "<style scoped>\n",
       "    .dataframe tbody tr th:only-of-type {\n",
       "        vertical-align: middle;\n",
       "    }\n",
       "\n",
       "    .dataframe tbody tr th {\n",
       "        vertical-align: top;\n",
       "    }\n",
       "\n",
       "    .dataframe thead th {\n",
       "        text-align: right;\n",
       "    }\n",
       "</style>\n",
       "<table border=\"1\" class=\"dataframe\">\n",
       "  <thead>\n",
       "    <tr style=\"text-align: right;\">\n",
       "      <th></th>\n",
       "      <th>Female</th>\n",
       "      <th>Male</th>\n",
       "    </tr>\n",
       "  </thead>\n",
       "  <tbody>\n",
       "    <tr>\n",
       "      <th>0</th>\n",
       "      <td>True</td>\n",
       "      <td>False</td>\n",
       "    </tr>\n",
       "    <tr>\n",
       "      <th>1</th>\n",
       "      <td>True</td>\n",
       "      <td>False</td>\n",
       "    </tr>\n",
       "    <tr>\n",
       "      <th>2</th>\n",
       "      <td>True</td>\n",
       "      <td>False</td>\n",
       "    </tr>\n",
       "    <tr>\n",
       "      <th>3</th>\n",
       "      <td>True</td>\n",
       "      <td>False</td>\n",
       "    </tr>\n",
       "    <tr>\n",
       "      <th>4</th>\n",
       "      <td>True</td>\n",
       "      <td>False</td>\n",
       "    </tr>\n",
       "    <tr>\n",
       "      <th>...</th>\n",
       "      <td>...</td>\n",
       "      <td>...</td>\n",
       "    </tr>\n",
       "    <tr>\n",
       "      <th>9995</th>\n",
       "      <td>False</td>\n",
       "      <td>True</td>\n",
       "    </tr>\n",
       "    <tr>\n",
       "      <th>9996</th>\n",
       "      <td>False</td>\n",
       "      <td>True</td>\n",
       "    </tr>\n",
       "    <tr>\n",
       "      <th>9997</th>\n",
       "      <td>True</td>\n",
       "      <td>False</td>\n",
       "    </tr>\n",
       "    <tr>\n",
       "      <th>9998</th>\n",
       "      <td>False</td>\n",
       "      <td>True</td>\n",
       "    </tr>\n",
       "    <tr>\n",
       "      <th>9999</th>\n",
       "      <td>True</td>\n",
       "      <td>False</td>\n",
       "    </tr>\n",
       "  </tbody>\n",
       "</table>\n",
       "<p>10000 rows × 2 columns</p>\n",
       "</div>"
      ],
      "text/plain": [
       "      Female   Male\n",
       "0       True  False\n",
       "1       True  False\n",
       "2       True  False\n",
       "3       True  False\n",
       "4       True  False\n",
       "...      ...    ...\n",
       "9995   False   True\n",
       "9996   False   True\n",
       "9997    True  False\n",
       "9998   False   True\n",
       "9999    True  False\n",
       "\n",
       "[10000 rows x 2 columns]"
      ]
     },
     "execution_count": 56,
     "metadata": {},
     "output_type": "execute_result"
    }
   ],
   "source": [
    "# ONE HOT ENCODING\n",
    "\n",
    "one_hotE = pd.get_dummies(df.Gender)\n",
    "one_hotE"
   ]
  },
  {
   "cell_type": "code",
   "execution_count": 57,
   "id": "12b7c5f7",
   "metadata": {
    "scrolled": true
   },
   "outputs": [
    {
     "data": {
      "text/html": [
       "<div>\n",
       "<style scoped>\n",
       "    .dataframe tbody tr th:only-of-type {\n",
       "        vertical-align: middle;\n",
       "    }\n",
       "\n",
       "    .dataframe tbody tr th {\n",
       "        vertical-align: top;\n",
       "    }\n",
       "\n",
       "    .dataframe thead th {\n",
       "        text-align: right;\n",
       "    }\n",
       "</style>\n",
       "<table border=\"1\" class=\"dataframe\">\n",
       "  <thead>\n",
       "    <tr style=\"text-align: right;\">\n",
       "      <th></th>\n",
       "      <th>CreditScore</th>\n",
       "      <th>Age</th>\n",
       "      <th>Tenure</th>\n",
       "      <th>Balance</th>\n",
       "      <th>NumOfProducts</th>\n",
       "      <th>HasCrCard</th>\n",
       "      <th>IsActiveMember</th>\n",
       "      <th>EstimatedSalary</th>\n",
       "      <th>Exited</th>\n",
       "      <th>Encoded_gender</th>\n",
       "      <th>Geography_France</th>\n",
       "      <th>Geography_Germany</th>\n",
       "      <th>Geography_Spain</th>\n",
       "      <th>Gender_Female</th>\n",
       "      <th>Gender_Male</th>\n",
       "    </tr>\n",
       "  </thead>\n",
       "  <tbody>\n",
       "    <tr>\n",
       "      <th>0</th>\n",
       "      <td>619</td>\n",
       "      <td>42</td>\n",
       "      <td>2</td>\n",
       "      <td>0.00</td>\n",
       "      <td>1</td>\n",
       "      <td>1</td>\n",
       "      <td>1</td>\n",
       "      <td>101348.88</td>\n",
       "      <td>1</td>\n",
       "      <td>0</td>\n",
       "      <td>True</td>\n",
       "      <td>False</td>\n",
       "      <td>False</td>\n",
       "      <td>True</td>\n",
       "      <td>False</td>\n",
       "    </tr>\n",
       "    <tr>\n",
       "      <th>1</th>\n",
       "      <td>608</td>\n",
       "      <td>41</td>\n",
       "      <td>1</td>\n",
       "      <td>83807.86</td>\n",
       "      <td>1</td>\n",
       "      <td>0</td>\n",
       "      <td>1</td>\n",
       "      <td>112542.58</td>\n",
       "      <td>0</td>\n",
       "      <td>0</td>\n",
       "      <td>False</td>\n",
       "      <td>False</td>\n",
       "      <td>True</td>\n",
       "      <td>True</td>\n",
       "      <td>False</td>\n",
       "    </tr>\n",
       "    <tr>\n",
       "      <th>2</th>\n",
       "      <td>502</td>\n",
       "      <td>42</td>\n",
       "      <td>8</td>\n",
       "      <td>159660.80</td>\n",
       "      <td>3</td>\n",
       "      <td>1</td>\n",
       "      <td>0</td>\n",
       "      <td>113931.57</td>\n",
       "      <td>1</td>\n",
       "      <td>0</td>\n",
       "      <td>True</td>\n",
       "      <td>False</td>\n",
       "      <td>False</td>\n",
       "      <td>True</td>\n",
       "      <td>False</td>\n",
       "    </tr>\n",
       "    <tr>\n",
       "      <th>3</th>\n",
       "      <td>699</td>\n",
       "      <td>39</td>\n",
       "      <td>1</td>\n",
       "      <td>0.00</td>\n",
       "      <td>2</td>\n",
       "      <td>0</td>\n",
       "      <td>0</td>\n",
       "      <td>93826.63</td>\n",
       "      <td>0</td>\n",
       "      <td>0</td>\n",
       "      <td>True</td>\n",
       "      <td>False</td>\n",
       "      <td>False</td>\n",
       "      <td>True</td>\n",
       "      <td>False</td>\n",
       "    </tr>\n",
       "    <tr>\n",
       "      <th>4</th>\n",
       "      <td>850</td>\n",
       "      <td>43</td>\n",
       "      <td>2</td>\n",
       "      <td>125510.82</td>\n",
       "      <td>1</td>\n",
       "      <td>1</td>\n",
       "      <td>1</td>\n",
       "      <td>79084.10</td>\n",
       "      <td>0</td>\n",
       "      <td>0</td>\n",
       "      <td>False</td>\n",
       "      <td>False</td>\n",
       "      <td>True</td>\n",
       "      <td>True</td>\n",
       "      <td>False</td>\n",
       "    </tr>\n",
       "  </tbody>\n",
       "</table>\n",
       "</div>"
      ],
      "text/plain": [
       "   CreditScore  Age  Tenure    Balance  NumOfProducts  HasCrCard  \\\n",
       "0          619   42       2       0.00              1          1   \n",
       "1          608   41       1   83807.86              1          0   \n",
       "2          502   42       8  159660.80              3          1   \n",
       "3          699   39       1       0.00              2          0   \n",
       "4          850   43       2  125510.82              1          1   \n",
       "\n",
       "   IsActiveMember  EstimatedSalary  Exited  Encoded_gender  Geography_France  \\\n",
       "0               1        101348.88       1               0              True   \n",
       "1               1        112542.58       0               0             False   \n",
       "2               0        113931.57       1               0              True   \n",
       "3               0         93826.63       0               0              True   \n",
       "4               1         79084.10       0               0             False   \n",
       "\n",
       "   Geography_Germany  Geography_Spain  Gender_Female  Gender_Male  \n",
       "0              False            False           True        False  \n",
       "1              False             True           True        False  \n",
       "2              False            False           True        False  \n",
       "3              False            False           True        False  \n",
       "4              False             True           True        False  "
      ]
     },
     "execution_count": 57,
     "metadata": {},
     "output_type": "execute_result"
    }
   ],
   "source": [
    "pd.get_dummies(df).head()"
   ]
  },
  {
   "cell_type": "code",
   "execution_count": 58,
   "id": "15b100c1",
   "metadata": {},
   "outputs": [
    {
     "data": {
      "text/plain": [
       "Exited\n",
       "0    7963\n",
       "1    2037\n",
       "Name: count, dtype: int64"
      ]
     },
     "execution_count": 58,
     "metadata": {},
     "output_type": "execute_result"
    }
   ],
   "source": [
    "df.Exited.value_counts()"
   ]
  },
  {
   "cell_type": "code",
   "execution_count": 59,
   "id": "e6bc67c6",
   "metadata": {},
   "outputs": [
    {
     "data": {
      "text/plain": [
       "Gender\n",
       "Female    1139\n",
       "Male       898\n",
       "Name: count, dtype: int64"
      ]
     },
     "execution_count": 59,
     "metadata": {},
     "output_type": "execute_result"
    }
   ],
   "source": [
    "df['Gender'][df['Exited']==1].value_counts()"
   ]
  },
  {
   "cell_type": "markdown",
   "id": "5f6154cf",
   "metadata": {},
   "source": [
    "2. **Feature Binning**:\n",
    "    -  It transform continuous or numeric variable into categorical value without taking dependent variable into consideration.  \n",
    "    Types:  \n",
    "     a. Equal width binning           \n",
    "     b. Equal frequency binning  \n",
    "     \n",
    "         Equal Width:\n",
    "         - Equal width separate the continuous variable to several categories having same range of width.\n",
    "             - Example: Age groups (0-20, 21-40, 41-60, 60+).\n",
    "\n",
    "         Equal Frequency\n",
    "        - Equal frequency separate the continuous variable into several categories having approximately same number of values (same frequency).\n",
    "            - Example: Age groups (0-18, 19-30, 31-50, 51+).\n",
    "        \n",
    "        \n",
    "    Group continuous variables into bins or intervals to convert them into categorical variables.  \n",
    "    Useful for handling skewed distributions or creating meaningful categories.\n",
    "     \n",
    "     "
   ]
  },
  {
   "cell_type": "markdown",
   "id": "c6e34a0a",
   "metadata": {},
   "source": [
    "3. **Calculated from Data**:\n",
    "   - Metrics derived directly from the dataset through mathematical calculations or statistical methods.  \n",
    "   - Examples:\n",
    "     - **Average**: Mean of a numerical variable.\n",
    "     - **Standard Deviation**: Measure of spread.\n",
    "     - **Percent Change**: Change relative to a baseline value.\n",
    "\n",
    "4. **From Domain Knowledge**:\n",
    "   - Incorporate external knowledge or expertise related to the specific domain.\n",
    "   - Enhance and refine metrics based on expert insights.\n",
    "   - Example: Adding a risk score based on medical guidelines."
   ]
  },
  {
   "cell_type": "code",
   "execution_count": 60,
   "id": "10b611b3",
   "metadata": {},
   "outputs": [
    {
     "data": {
      "text/html": [
       "<div>\n",
       "<style scoped>\n",
       "    .dataframe tbody tr th:only-of-type {\n",
       "        vertical-align: middle;\n",
       "    }\n",
       "\n",
       "    .dataframe tbody tr th {\n",
       "        vertical-align: top;\n",
       "    }\n",
       "\n",
       "    .dataframe thead th {\n",
       "        text-align: right;\n",
       "    }\n",
       "</style>\n",
       "<table border=\"1\" class=\"dataframe\">\n",
       "  <thead>\n",
       "    <tr style=\"text-align: right;\">\n",
       "      <th></th>\n",
       "      <th>CreditScore</th>\n",
       "      <th>Geography</th>\n",
       "      <th>Gender</th>\n",
       "      <th>Age</th>\n",
       "      <th>Tenure</th>\n",
       "      <th>Balance</th>\n",
       "      <th>NumOfProducts</th>\n",
       "      <th>HasCrCard</th>\n",
       "      <th>IsActiveMember</th>\n",
       "      <th>EstimatedSalary</th>\n",
       "      <th>Exited</th>\n",
       "      <th>Encoded_gender</th>\n",
       "    </tr>\n",
       "  </thead>\n",
       "  <tbody>\n",
       "    <tr>\n",
       "      <th>0</th>\n",
       "      <td>619</td>\n",
       "      <td>France</td>\n",
       "      <td>Female</td>\n",
       "      <td>42</td>\n",
       "      <td>2</td>\n",
       "      <td>0.00</td>\n",
       "      <td>1</td>\n",
       "      <td>1</td>\n",
       "      <td>1</td>\n",
       "      <td>101348.88</td>\n",
       "      <td>1</td>\n",
       "      <td>0</td>\n",
       "    </tr>\n",
       "    <tr>\n",
       "      <th>1</th>\n",
       "      <td>608</td>\n",
       "      <td>Spain</td>\n",
       "      <td>Female</td>\n",
       "      <td>41</td>\n",
       "      <td>1</td>\n",
       "      <td>83807.86</td>\n",
       "      <td>1</td>\n",
       "      <td>0</td>\n",
       "      <td>1</td>\n",
       "      <td>112542.58</td>\n",
       "      <td>0</td>\n",
       "      <td>0</td>\n",
       "    </tr>\n",
       "    <tr>\n",
       "      <th>2</th>\n",
       "      <td>502</td>\n",
       "      <td>France</td>\n",
       "      <td>Female</td>\n",
       "      <td>42</td>\n",
       "      <td>8</td>\n",
       "      <td>159660.80</td>\n",
       "      <td>3</td>\n",
       "      <td>1</td>\n",
       "      <td>0</td>\n",
       "      <td>113931.57</td>\n",
       "      <td>1</td>\n",
       "      <td>0</td>\n",
       "    </tr>\n",
       "    <tr>\n",
       "      <th>3</th>\n",
       "      <td>699</td>\n",
       "      <td>France</td>\n",
       "      <td>Female</td>\n",
       "      <td>39</td>\n",
       "      <td>1</td>\n",
       "      <td>0.00</td>\n",
       "      <td>2</td>\n",
       "      <td>0</td>\n",
       "      <td>0</td>\n",
       "      <td>93826.63</td>\n",
       "      <td>0</td>\n",
       "      <td>0</td>\n",
       "    </tr>\n",
       "    <tr>\n",
       "      <th>4</th>\n",
       "      <td>850</td>\n",
       "      <td>Spain</td>\n",
       "      <td>Female</td>\n",
       "      <td>43</td>\n",
       "      <td>2</td>\n",
       "      <td>125510.82</td>\n",
       "      <td>1</td>\n",
       "      <td>1</td>\n",
       "      <td>1</td>\n",
       "      <td>79084.10</td>\n",
       "      <td>0</td>\n",
       "      <td>0</td>\n",
       "    </tr>\n",
       "  </tbody>\n",
       "</table>\n",
       "</div>"
      ],
      "text/plain": [
       "   CreditScore Geography  Gender  Age  Tenure    Balance  NumOfProducts  \\\n",
       "0          619    France  Female   42       2       0.00              1   \n",
       "1          608     Spain  Female   41       1   83807.86              1   \n",
       "2          502    France  Female   42       8  159660.80              3   \n",
       "3          699    France  Female   39       1       0.00              2   \n",
       "4          850     Spain  Female   43       2  125510.82              1   \n",
       "\n",
       "   HasCrCard  IsActiveMember  EstimatedSalary  Exited  Encoded_gender  \n",
       "0          1               1        101348.88       1               0  \n",
       "1          0               1        112542.58       0               0  \n",
       "2          1               0        113931.57       1               0  \n",
       "3          0               0         93826.63       0               0  \n",
       "4          1               1         79084.10       0               0  "
      ]
     },
     "execution_count": 60,
     "metadata": {},
     "output_type": "execute_result"
    }
   ],
   "source": [
    "# Feature Binning\n",
    "df.head()"
   ]
  },
  {
   "cell_type": "code",
   "execution_count": 61,
   "id": "9d1ea4a3",
   "metadata": {},
   "outputs": [
    {
     "data": {
      "text/plain": [
       "18"
      ]
     },
     "execution_count": 61,
     "metadata": {},
     "output_type": "execute_result"
    }
   ],
   "source": [
    "# making bins of Age\n",
    "df.Age.min()"
   ]
  },
  {
   "cell_type": "code",
   "execution_count": 62,
   "id": "f5d243e6",
   "metadata": {},
   "outputs": [
    {
     "data": {
      "text/plain": [
       "92"
      ]
     },
     "execution_count": 62,
     "metadata": {},
     "output_type": "execute_result"
    }
   ],
   "source": [
    "df.Age.max()"
   ]
  },
  {
   "cell_type": "code",
   "execution_count": 63,
   "id": "cd843f12",
   "metadata": {},
   "outputs": [],
   "source": [
    "label = ['18-30','31-42','43-54','55-67','68+']\n",
    "bins = [18,30,42,54,67,92]\n",
    "\n",
    "df['grouped_age']=pd.cut(x=df.Age,bins=bins,labels=label)"
   ]
  },
  {
   "cell_type": "code",
   "execution_count": 64,
   "id": "6ca1c50b",
   "metadata": {
    "scrolled": true
   },
   "outputs": [
    {
     "data": {
      "text/html": [
       "<div>\n",
       "<style scoped>\n",
       "    .dataframe tbody tr th:only-of-type {\n",
       "        vertical-align: middle;\n",
       "    }\n",
       "\n",
       "    .dataframe tbody tr th {\n",
       "        vertical-align: top;\n",
       "    }\n",
       "\n",
       "    .dataframe thead th {\n",
       "        text-align: right;\n",
       "    }\n",
       "</style>\n",
       "<table border=\"1\" class=\"dataframe\">\n",
       "  <thead>\n",
       "    <tr style=\"text-align: right;\">\n",
       "      <th></th>\n",
       "      <th>CreditScore</th>\n",
       "      <th>Geography</th>\n",
       "      <th>Gender</th>\n",
       "      <th>Age</th>\n",
       "      <th>Tenure</th>\n",
       "      <th>Balance</th>\n",
       "      <th>NumOfProducts</th>\n",
       "      <th>HasCrCard</th>\n",
       "      <th>IsActiveMember</th>\n",
       "      <th>EstimatedSalary</th>\n",
       "      <th>Exited</th>\n",
       "      <th>Encoded_gender</th>\n",
       "      <th>grouped_age</th>\n",
       "    </tr>\n",
       "  </thead>\n",
       "  <tbody>\n",
       "    <tr>\n",
       "      <th>4626</th>\n",
       "      <td>506</td>\n",
       "      <td>France</td>\n",
       "      <td>Female</td>\n",
       "      <td>32</td>\n",
       "      <td>3</td>\n",
       "      <td>0.00</td>\n",
       "      <td>1</td>\n",
       "      <td>1</td>\n",
       "      <td>1</td>\n",
       "      <td>80823.02</td>\n",
       "      <td>0</td>\n",
       "      <td>0</td>\n",
       "      <td>31-42</td>\n",
       "    </tr>\n",
       "    <tr>\n",
       "      <th>5416</th>\n",
       "      <td>630</td>\n",
       "      <td>France</td>\n",
       "      <td>Male</td>\n",
       "      <td>50</td>\n",
       "      <td>8</td>\n",
       "      <td>0.00</td>\n",
       "      <td>2</td>\n",
       "      <td>0</td>\n",
       "      <td>1</td>\n",
       "      <td>79377.45</td>\n",
       "      <td>0</td>\n",
       "      <td>1</td>\n",
       "      <td>43-54</td>\n",
       "    </tr>\n",
       "    <tr>\n",
       "      <th>5573</th>\n",
       "      <td>681</td>\n",
       "      <td>France</td>\n",
       "      <td>Male</td>\n",
       "      <td>29</td>\n",
       "      <td>8</td>\n",
       "      <td>0.00</td>\n",
       "      <td>1</td>\n",
       "      <td>1</td>\n",
       "      <td>0</td>\n",
       "      <td>66367.33</td>\n",
       "      <td>0</td>\n",
       "      <td>1</td>\n",
       "      <td>18-30</td>\n",
       "    </tr>\n",
       "    <tr>\n",
       "      <th>533</th>\n",
       "      <td>543</td>\n",
       "      <td>Spain</td>\n",
       "      <td>Male</td>\n",
       "      <td>35</td>\n",
       "      <td>10</td>\n",
       "      <td>59408.63</td>\n",
       "      <td>1</td>\n",
       "      <td>1</td>\n",
       "      <td>0</td>\n",
       "      <td>76773.53</td>\n",
       "      <td>0</td>\n",
       "      <td>1</td>\n",
       "      <td>31-42</td>\n",
       "    </tr>\n",
       "    <tr>\n",
       "      <th>8178</th>\n",
       "      <td>707</td>\n",
       "      <td>France</td>\n",
       "      <td>Female</td>\n",
       "      <td>46</td>\n",
       "      <td>7</td>\n",
       "      <td>127476.73</td>\n",
       "      <td>2</td>\n",
       "      <td>1</td>\n",
       "      <td>1</td>\n",
       "      <td>146011.55</td>\n",
       "      <td>0</td>\n",
       "      <td>0</td>\n",
       "      <td>43-54</td>\n",
       "    </tr>\n",
       "  </tbody>\n",
       "</table>\n",
       "</div>"
      ],
      "text/plain": [
       "      CreditScore Geography  Gender  Age  Tenure    Balance  NumOfProducts  \\\n",
       "4626          506    France  Female   32       3       0.00              1   \n",
       "5416          630    France    Male   50       8       0.00              2   \n",
       "5573          681    France    Male   29       8       0.00              1   \n",
       "533           543     Spain    Male   35      10   59408.63              1   \n",
       "8178          707    France  Female   46       7  127476.73              2   \n",
       "\n",
       "      HasCrCard  IsActiveMember  EstimatedSalary  Exited  Encoded_gender  \\\n",
       "4626          1               1         80823.02       0               0   \n",
       "5416          0               1         79377.45       0               1   \n",
       "5573          1               0         66367.33       0               1   \n",
       "533           1               0         76773.53       0               1   \n",
       "8178          1               1        146011.55       0               0   \n",
       "\n",
       "     grouped_age  \n",
       "4626       31-42  \n",
       "5416       43-54  \n",
       "5573       18-30  \n",
       "533        31-42  \n",
       "8178       43-54  "
      ]
     },
     "execution_count": 64,
     "metadata": {},
     "output_type": "execute_result"
    }
   ],
   "source": [
    "df.sample(5)"
   ]
  },
  {
   "cell_type": "code",
   "execution_count": 65,
   "id": "863cb2c7",
   "metadata": {},
   "outputs": [
    {
     "name": "stderr",
     "output_type": "stream",
     "text": [
      "C:\\Users\\aly98\\anaconda3\\Lib\\site-packages\\seaborn\\categorical.py:641: FutureWarning: The default of observed=False is deprecated and will be changed to True in a future version of pandas. Pass observed=False to retain current behavior or observed=True to adopt the future default and silence this warning.\n",
      "  grouped_vals = vals.groupby(grouper)\n",
      "C:\\Users\\aly98\\anaconda3\\Lib\\site-packages\\seaborn\\categorical.py:641: FutureWarning: The default of observed=False is deprecated and will be changed to True in a future version of pandas. Pass observed=False to retain current behavior or observed=True to adopt the future default and silence this warning.\n",
      "  grouped_vals = vals.groupby(grouper)\n"
     ]
    },
    {
     "data": {
      "text/plain": [
       "<Axes: xlabel='grouped_age', ylabel='count'>"
      ]
     },
     "execution_count": 65,
     "metadata": {},
     "output_type": "execute_result"
    },
    {
     "data": {
      "image/png": "[encoded data removed]",
      "text/plain": [
       "<Figure size 640x480 with 1 Axes>"
      ]
     },
     "metadata": {},
     "output_type": "display_data"
    }
   ],
   "source": [
    "import seaborn as sns\n",
    "df['Exited'] = df['Exited'].astype(str)\n",
    "sns.countplot(data=df,x='grouped_age', hue='Exited')"
   ]
  },
  {
   "cell_type": "markdown",
   "id": "335da784",
   "metadata": {},
   "source": [
    "As we can see the most churner are older people between 43-54 and 55-67 "
   ]
  },
  {
   "cell_type": "code",
   "execution_count": 66,
   "id": "259ef0d0",
   "metadata": {},
   "outputs": [
    {
     "name": "stderr",
     "output_type": "stream",
     "text": [
      "C:\\Users\\aly98\\anaconda3\\Lib\\site-packages\\seaborn\\categorical.py:641: FutureWarning: The default of observed=False is deprecated and will be changed to True in a future version of pandas. Pass observed=False to retain current behavior or observed=True to adopt the future default and silence this warning.\n",
      "  grouped_vals = vals.groupby(grouper)\n"
     ]
    },
    {
     "data": {
      "text/plain": [
       "<Axes: xlabel='grouped_age', ylabel='Exited'>"
      ]
     },
     "execution_count": 66,
     "metadata": {},
     "output_type": "execute_result"
    },
    {
     "data": {
      "image/png": "[encoded data removed]",
      "text/plain": [
       "<Figure size 640x480 with 1 Axes>"
      ]
     },
     "metadata": {},
     "output_type": "display_data"
    }
   ],
   "source": [
    "# Average of churner based on their total of age_group\n",
    "df['Exited'] = df['Exited'].astype(int)\n",
    "sns.barplot(data=df, x='grouped_age',y='Exited')"
   ]
  }
 ],
 "metadata": {
  "kernelspec": {
   "display_name": "Python 3 (ipykernel)",
   "language": "python",
   "name": "python3"
  },
  "language_info": {
   "codemirror_mode": {
    "name": "ipython",
    "version": 3
   },
   "file_extension": ".py",
   "mimetype": "text/x-python",
   "name": "python",
   "nbconvert_exporter": "python",
   "pygments_lexer": "ipython3",
   "version": "3.11.7"
  },
  "toc": {
   "base_numbering": 1,
   "nav_menu": {},
   "number_sections": false,
   "sideBar": true,
   "skip_h1_title": true,
   "title_cell": "Table of Contents",
   "title_sidebar": "Contents",
   "toc_cell": true,
   "toc_position": {
    "height": "calc(100% - 180px)",
    "left": "10px",
    "top": "150px",
    "width": "212.4px"
   },
   "toc_section_display": true,
   "toc_window_display": true
  }
 },
 "nbformat": 4,
 "nbformat_minor": 5
}
